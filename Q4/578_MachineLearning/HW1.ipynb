{
 "cells": [
  {
   "cell_type": "markdown",
   "metadata": {},
   "source": [
    "# Question 1"
   ]
  },
  {
   "cell_type": "code",
   "execution_count": 3,
   "metadata": {},
   "outputs": [
    {
     "name": "stdout",
     "output_type": "stream",
     "text": [
      "Unique sorted fruits: ['apple', 'banana', 'cherry', 'kiwi', 'orange', 'pear']\n"
     ]
    }
   ],
   "source": [
    "fruits = ['orange', 'banana', 'banana', 'apple', 'kiwi', 'banana', 'kiwi', 'banana', 'pear',\n",
    "          'apple', 'apple', 'cherry', 'orange', 'apple', 'pear', 'cherry']\n",
    "\n",
    "#I could write a funciton but this is more elegant \n",
    "unique_sorted_fruits = sorted(set(fruits))\n",
    "print(\"Unique sorted fruits:\", unique_sorted_fruits) "
   ]
  },
  {
   "cell_type": "markdown",
   "metadata": {},
   "source": [
    "# Question 2"
   ]
  },
  {
   "cell_type": "code",
   "execution_count": 1,
   "metadata": {},
   "outputs": [
    {
     "name": "stdout",
     "output_type": "stream",
     "text": [
      "Rectangle area: 15\n",
      "Rectangle perimeter: 16\n"
     ]
    }
   ],
   "source": [
    "class Rectangle:\n",
    "    def __init__(self, length, width):\n",
    "        self.length = length\n",
    "        self.width = width\n",
    "\n",
    "    def area(self):\n",
    "        \"\"\"Calculate and return the area of the rectangle.\"\"\"\n",
    "        return self.length * self.width\n",
    "\n",
    "    def perimeter(self):\n",
    "        \"\"\"Calculate and return the perimeter of the rectangle.\"\"\"\n",
    "        return 2 * (self.length + self.width)\n",
    "\n",
    "rect = Rectangle(5, 3)\n",
    "print(\"Rectangle area:\", rect.area())\n",
    "print(\"Rectangle perimeter:\", rect.perimeter())"
   ]
  },
  {
   "cell_type": "markdown",
   "metadata": {},
   "source": [
    "# Question 3"
   ]
  },
  {
   "cell_type": "code",
   "execution_count": 5,
   "metadata": {},
   "outputs": [
    {
     "name": "stdout",
     "output_type": "stream",
     "text": [
      "Initial UserList: [1, 2, 3, 4]\n",
      "After appending 5: [1, 2, 3, 4, 5]\n",
      "After pop_head (removed element 1): [2, 3, 4, 5]\n",
      "After pop_rear (removed element 5): [2, 3, 4]\n"
     ]
    }
   ],
   "source": [
    "class UserList:\n",
    "    def __init__(self, data=None):\n",
    "        self.data = data if data is not None else []\n",
    "\n",
    "    def append(self, element):\n",
    "        \"\"\"Append an element to the end of the list.\"\"\"\n",
    "        self.data.append(element)\n",
    "\n",
    "    def pop_head(self):\n",
    "        \"\"\"Remove and return the first element of the list.\n",
    "           Raises an IndexError if the list is empty.\n",
    "        \"\"\"\n",
    "        if self.data:\n",
    "            return self.data.pop(0)\n",
    "        else:\n",
    "            raise IndexError(\"pop_head from empty list\")\n",
    "\n",
    "    def pop_rear(self):\n",
    "        \"\"\"Remove and return the last element of the list.\n",
    "           Raises an IndexError if the list is empty.\n",
    "        \"\"\"\n",
    "        if self.data:\n",
    "            return self.data.pop()\n",
    "        else:\n",
    "            raise IndexError(\"pop_rear from empty list\")\n",
    "\n",
    "\n",
    "user_list = UserList([1, 2, 3, 4])\n",
    "print(\"Initial UserList:\", user_list.data)\n",
    "\n",
    "user_list.append(5)\n",
    "print(\"After appending 5:\", user_list.data)\n",
    "\n",
    "head = user_list.pop_head()\n",
    "print(\"After pop_head (removed element {}): {}\".format(head, user_list.data))\n",
    "\n",
    "rear = user_list.pop_rear()\n",
    "print(\"After pop_rear (removed element {}): {}\".format(rear, user_list.data))"
   ]
  },
  {
   "cell_type": "code",
   "execution_count": null,
   "metadata": {},
   "outputs": [],
   "source": []
  }
 ],
 "metadata": {
  "kernelspec": {
   "display_name": "base",
   "language": "python",
   "name": "python3"
  },
  "language_info": {
   "codemirror_mode": {
    "name": "ipython",
    "version": 3
   },
   "file_extension": ".py",
   "mimetype": "text/x-python",
   "name": "python",
   "nbconvert_exporter": "python",
   "pygments_lexer": "ipython3",
   "version": "3.12.7"
  }
 },
 "nbformat": 4,
 "nbformat_minor": 2
}
