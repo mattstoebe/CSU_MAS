{
 "cells": [
  {
   "cell_type": "markdown",
   "id": "f1f56e52-8b89-40c1-bf4b-ba43ad2f29c2",
   "metadata": {},
   "source": [
    "## MNIST dataset"
   ]
  },
  {
   "cell_type": "markdown",
   "id": "03f04af8-18e0-4d00-ac71-4e15f27e876e",
   "metadata": {},
   "source": [
    "### Loading the MNIST dataset in Keras"
   ]
  },
  {
   "cell_type": "code",
   "execution_count": 15,
   "id": "3c5eb9a5-cd8b-449e-adf1-c5edbb4ea684",
   "metadata": {},
   "outputs": [],
   "source": [
    "import os    \n",
    "os.environ['KMP_DUPLICATE_LIB_OK'] = 'True'"
   ]
  },
  {
   "cell_type": "code",
   "execution_count": 16,
   "id": "5a7c2450",
   "metadata": {},
   "outputs": [],
   "source": [
    "import keras\n"
   ]
  },
  {
   "cell_type": "code",
   "execution_count": 17,
   "id": "9e0added-685e-4361-aa9e-19ae22cae296",
   "metadata": {},
   "outputs": [],
   "source": [
    "import tensorflow\n",
    "from keras.datasets import mnist\n",
    "(train_images, train_labels), (test_images, test_labels) = mnist.load_data()"
   ]
  },
  {
   "cell_type": "code",
   "execution_count": 18,
   "id": "fc33571f-0d34-4daf-9f88-57406f9c990b",
   "metadata": {},
   "outputs": [
    {
     "data": {
      "text/plain": [
       "(60000,)"
      ]
     },
     "execution_count": 18,
     "metadata": {},
     "output_type": "execute_result"
    }
   ],
   "source": [
    "train_labels.shape"
   ]
  },
  {
   "cell_type": "code",
   "execution_count": 19,
   "id": "28fbde37-2fdc-4ec6-a9a8-93913d3e038c",
   "metadata": {},
   "outputs": [
    {
     "data": {
      "image/png": "[encoded data removed]",
      "text/plain": [
       "<Figure size 640x480 with 1 Axes>"
      ]
     },
     "metadata": {},
     "output_type": "display_data"
    }
   ],
   "source": [
    "import matplotlib.pyplot as plt\n",
    "digit = train_images[4]\n",
    "plt.imshow(digit, cmap=plt.cm.binary)\n",
    "plt.show()"
   ]
  },
  {
   "cell_type": "code",
   "execution_count": 20,
   "id": "c0fb92e8-3f28-4afa-983f-417a11e0bde4",
   "metadata": {},
   "outputs": [
    {
     "data": {
      "text/plain": [
       "(28, 28)"
      ]
     },
     "execution_count": 20,
     "metadata": {},
     "output_type": "execute_result"
    }
   ],
   "source": [
    "train_images[0].shape"
   ]
  },
  {
   "cell_type": "code",
   "execution_count": 21,
   "id": "74eb9c0b-e9b0-4f25-95dd-a3a04170a53c",
   "metadata": {},
   "outputs": [
    {
     "data": {
      "text/plain": [
       "(60000, 28, 28)"
      ]
     },
     "execution_count": 21,
     "metadata": {},
     "output_type": "execute_result"
    }
   ],
   "source": [
    "train_images.shape"
   ]
  },
  {
   "cell_type": "code",
   "execution_count": 22,
   "id": "0211e0d8-ed1b-45b8-8077-6ef33a720bcc",
   "metadata": {},
   "outputs": [
    {
     "data": {
      "text/plain": [
       "(10000, 28, 28)"
      ]
     },
     "execution_count": 22,
     "metadata": {},
     "output_type": "execute_result"
    }
   ],
   "source": [
    "test_images.shape"
   ]
  },
  {
   "cell_type": "markdown",
   "id": "f5a0cbc9-ab3b-4d10-ac80-8146a362e54d",
   "metadata": {},
   "source": [
    "### Reshape the data"
   ]
  },
  {
   "cell_type": "markdown",
   "id": "aabd0834-45c9-4981-817d-2f31498077ec",
   "metadata": {},
   "source": [
    "**Why we reshape the data? What is the potential problem?**"
   ]
  },
  {
   "cell_type": "code",
   "execution_count": 23,
   "id": "af32db8e-69bd-4e7c-9dd0-7565f18ba539",
   "metadata": {},
   "outputs": [],
   "source": [
    "train_images = train_images.reshape((60000, 28 * 28))\n",
    "train_images = train_images.astype(\"float32\") / 255    ## default type is float64\n",
    "test_images = test_images.reshape((10000, 28 * 28))\n",
    "test_images = test_images.astype(\"float32\") / 255"
   ]
  },
  {
   "cell_type": "code",
   "execution_count": 24,
   "id": "b580e29d-7bd3-4211-8feb-2b39db58180a",
   "metadata": {},
   "outputs": [
    {
     "data": {
      "text/plain": [
       "(60000, 784)"
      ]
     },
     "execution_count": 24,
     "metadata": {},
     "output_type": "execute_result"
    }
   ],
   "source": [
    "train_images.shape"
   ]
  },
  {
   "cell_type": "code",
   "execution_count": 25,
   "id": "dd1bcf49-d777-4a26-9be8-0b27f7b9fcfa",
   "metadata": {},
   "outputs": [
    {
     "data": {
      "text/plain": [
       "(784,)"
      ]
     },
     "execution_count": 25,
     "metadata": {},
     "output_type": "execute_result"
    }
   ],
   "source": [
    "temp = train_images[0]\n",
    "temp.shape   ## This is a tuple. "
   ]
  },
  {
   "cell_type": "markdown",
   "id": "ca74b167-7038-472e-9ffe-ff39878ada64",
   "metadata": {},
   "source": [
    "**The network architecture**"
   ]
  },
  {
   "cell_type": "code",
   "execution_count": 26,
   "id": "da5854a8-0336-4a30-b060-286027831ece",
   "metadata": {},
   "outputs": [],
   "source": [
    "# will show an error\n",
    "\n",
    "# from tensorflow import keras\n",
    "# model = keras.Sequential([\n",
    "#    layers.Dense(512, activation=\"relu\"),\n",
    "#    layers.Dense(10, activation=\"softmax\")\n",
    "# ])"
   ]
  },
  {
   "cell_type": "code",
   "execution_count": 27,
   "id": "cc320f21-9e47-4748-a88f-c0c4ff731770",
   "metadata": {},
   "outputs": [],
   "source": [
    "model = keras.Sequential([\n",
    "    keras.layers.Dense(512, activation=\"relu\"),\n",
    "    keras.layers.Dense(10, activation=\"softmax\")\n",
    "])"
   ]
  },
  {
   "cell_type": "code",
   "execution_count": 28,
   "id": "05c8ef0b-733a-4f0f-a114-3551a72a2edb",
   "metadata": {},
   "outputs": [],
   "source": [
    "from keras import layers\n",
    "model = keras.Sequential([\n",
    "    layers.Dense(512, activation=\"relu\"),\n",
    "    layers.Dense(10, activation=\"softmax\")\n",
    "])"
   ]
  },
  {
   "cell_type": "markdown",
   "id": "57bc1cd1-c451-4e78-9e5a-f5c9fdb88cce",
   "metadata": {},
   "source": [
    "**The compilation step** \\\n",
    "rmsprop: root mean squared propagation, a variant of stochastic gradient descent with back propagation \\\n",
    "loss: cross-entropy for multiple categories \\\n",
    "metric: display in the training and validation (not for optimization)"
   ]
  },
  {
   "cell_type": "code",
   "execution_count": 29,
   "id": "bbb8397c-2e05-40da-87be-6858b4e799a5",
   "metadata": {},
   "outputs": [],
   "source": [
    "model.compile(optimizer=\"rmsprop\",\n",
    "              loss=\"sparse_categorical_crossentropy\",\n",
    "              metrics=[\"accuracy\"])\n",
    "## please get used to \"modifier\" (method for class) "
   ]
  },
  {
   "cell_type": "code",
   "execution_count": 30,
   "id": "fe92d0e9-5a79-4de0-abc8-8d71cc613c93",
   "metadata": {},
   "outputs": [],
   "source": [
    "## error: weights haven't been created\n",
    "## model.weights"
   ]
  },
  {
   "cell_type": "code",
   "execution_count": 31,
   "id": "d4cac41b-1879-4dd8-9596-5f819669caf5",
   "metadata": {},
   "outputs": [
    {
     "name": "stdout",
     "output_type": "stream",
     "text": [
      "Epoch 1/5\n",
      "\u001b[1m469/469\u001b[0m \u001b[32m━━━━━━━━━━━━━━━━━━━━\u001b[0m\u001b[37m\u001b[0m \u001b[1m2s\u001b[0m 3ms/step - accuracy: 0.8747 - loss: 0.4400\n",
      "Epoch 2/5\n",
      "\u001b[1m469/469\u001b[0m \u001b[32m━━━━━━━━━━━━━━━━━━━━\u001b[0m\u001b[37m\u001b[0m \u001b[1m2s\u001b[0m 3ms/step - accuracy: 0.9654 - loss: 0.1170\n",
      "Epoch 3/5\n",
      "\u001b[1m469/469\u001b[0m \u001b[32m━━━━━━━━━━━━━━━━━━━━\u001b[0m\u001b[37m\u001b[0m \u001b[1m1s\u001b[0m 3ms/step - accuracy: 0.9779 - loss: 0.0743\n",
      "Epoch 4/5\n",
      "\u001b[1m469/469\u001b[0m \u001b[32m━━━━━━━━━━━━━━━━━━━━\u001b[0m\u001b[37m\u001b[0m \u001b[1m2s\u001b[0m 4ms/step - accuracy: 0.9853 - loss: 0.0515\n",
      "Epoch 5/5\n",
      "\u001b[1m469/469\u001b[0m \u001b[32m━━━━━━━━━━━━━━━━━━━━\u001b[0m\u001b[37m\u001b[0m \u001b[1m2s\u001b[0m 3ms/step - accuracy: 0.9898 - loss: 0.0366\n"
     ]
    },
    {
     "data": {
      "text/plain": [
       "<keras.src.callbacks.history.History at 0x309e52180>"
      ]
     },
     "execution_count": 31,
     "metadata": {},
     "output_type": "execute_result"
    }
   ],
   "source": [
    "model.fit(train_images, train_labels, epochs=5, batch_size=128)"
   ]
  },
  {
   "cell_type": "code",
   "execution_count": 32,
   "id": "b6ac7032-57e1-4a7f-bfe8-d577359bafee",
   "metadata": {},
   "outputs": [
    {
     "data": {
      "text/html": [
       "<pre style=\"white-space:pre;overflow-x:auto;line-height:normal;font-family:Menlo,'DejaVu Sans Mono',consolas,'Courier New',monospace\"><span style=\"font-weight: bold\">Model: \"sequential_3\"</span>\n",
       "</pre>\n"
      ],
      "text/plain": [
       "\u001b[1mModel: \"sequential_3\"\u001b[0m\n"
      ]
     },
     "metadata": {},
     "output_type": "display_data"
    },
    {
     "data": {
      "text/html": [
       "<pre style=\"white-space:pre;overflow-x:auto;line-height:normal;font-family:Menlo,'DejaVu Sans Mono',consolas,'Courier New',monospace\">┏━━━━━━━━━━━━━━━━━━━━━━━━━━━━━━━━━┳━━━━━━━━━━━━━━━━━━━━━━━━┳━━━━━━━━━━━━━━━┓\n",
       "┃<span style=\"font-weight: bold\"> Layer (type)                    </span>┃<span style=\"font-weight: bold\"> Output Shape           </span>┃<span style=\"font-weight: bold\">       Param # </span>┃\n",
       "┡━━━━━━━━━━━━━━━━━━━━━━━━━━━━━━━━━╇━━━━━━━━━━━━━━━━━━━━━━━━╇━━━━━━━━━━━━━━━┩\n",
       "│ dense_6 (<span style=\"color: #0087ff; text-decoration-color: #0087ff\">Dense</span>)                 │ (<span style=\"color: #00d7ff; text-decoration-color: #00d7ff\">None</span>, <span style=\"color: #00af00; text-decoration-color: #00af00\">512</span>)            │       <span style=\"color: #00af00; text-decoration-color: #00af00\">401,920</span> │\n",
       "├─────────────────────────────────┼────────────────────────┼───────────────┤\n",
       "│ dense_7 (<span style=\"color: #0087ff; text-decoration-color: #0087ff\">Dense</span>)                 │ (<span style=\"color: #00d7ff; text-decoration-color: #00d7ff\">None</span>, <span style=\"color: #00af00; text-decoration-color: #00af00\">10</span>)             │         <span style=\"color: #00af00; text-decoration-color: #00af00\">5,130</span> │\n",
       "└─────────────────────────────────┴────────────────────────┴───────────────┘\n",
       "</pre>\n"
      ],
      "text/plain": [
       "┏━━━━━━━━━━━━━━━━━━━━━━━━━━━━━━━━━┳━━━━━━━━━━━━━━━━━━━━━━━━┳━━━━━━━━━━━━━━━┓\n",
       "┃\u001b[1m \u001b[0m\u001b[1mLayer (type)                   \u001b[0m\u001b[1m \u001b[0m┃\u001b[1m \u001b[0m\u001b[1mOutput Shape          \u001b[0m\u001b[1m \u001b[0m┃\u001b[1m \u001b[0m\u001b[1m      Param #\u001b[0m\u001b[1m \u001b[0m┃\n",
       "┡━━━━━━━━━━━━━━━━━━━━━━━━━━━━━━━━━╇━━━━━━━━━━━━━━━━━━━━━━━━╇━━━━━━━━━━━━━━━┩\n",
       "│ dense_6 (\u001b[38;5;33mDense\u001b[0m)                 │ (\u001b[38;5;45mNone\u001b[0m, \u001b[38;5;34m512\u001b[0m)            │       \u001b[38;5;34m401,920\u001b[0m │\n",
       "├─────────────────────────────────┼────────────────────────┼───────────────┤\n",
       "│ dense_7 (\u001b[38;5;33mDense\u001b[0m)                 │ (\u001b[38;5;45mNone\u001b[0m, \u001b[38;5;34m10\u001b[0m)             │         \u001b[38;5;34m5,130\u001b[0m │\n",
       "└─────────────────────────────────┴────────────────────────┴───────────────┘\n"
      ]
     },
     "metadata": {},
     "output_type": "display_data"
    },
    {
     "data": {
      "text/html": [
       "<pre style=\"white-space:pre;overflow-x:auto;line-height:normal;font-family:Menlo,'DejaVu Sans Mono',consolas,'Courier New',monospace\"><span style=\"font-weight: bold\"> Total params: </span><span style=\"color: #00af00; text-decoration-color: #00af00\">814,102</span> (3.11 MB)\n",
       "</pre>\n"
      ],
      "text/plain": [
       "\u001b[1m Total params: \u001b[0m\u001b[38;5;34m814,102\u001b[0m (3.11 MB)\n"
      ]
     },
     "metadata": {},
     "output_type": "display_data"
    },
    {
     "data": {
      "text/html": [
       "<pre style=\"white-space:pre;overflow-x:auto;line-height:normal;font-family:Menlo,'DejaVu Sans Mono',consolas,'Courier New',monospace\"><span style=\"font-weight: bold\"> Trainable params: </span><span style=\"color: #00af00; text-decoration-color: #00af00\">407,050</span> (1.55 MB)\n",
       "</pre>\n"
      ],
      "text/plain": [
       "\u001b[1m Trainable params: \u001b[0m\u001b[38;5;34m407,050\u001b[0m (1.55 MB)\n"
      ]
     },
     "metadata": {},
     "output_type": "display_data"
    },
    {
     "data": {
      "text/html": [
       "<pre style=\"white-space:pre;overflow-x:auto;line-height:normal;font-family:Menlo,'DejaVu Sans Mono',consolas,'Courier New',monospace\"><span style=\"font-weight: bold\"> Non-trainable params: </span><span style=\"color: #00af00; text-decoration-color: #00af00\">0</span> (0.00 B)\n",
       "</pre>\n"
      ],
      "text/plain": [
       "\u001b[1m Non-trainable params: \u001b[0m\u001b[38;5;34m0\u001b[0m (0.00 B)\n"
      ]
     },
     "metadata": {},
     "output_type": "display_data"
    },
    {
     "data": {
      "text/html": [
       "<pre style=\"white-space:pre;overflow-x:auto;line-height:normal;font-family:Menlo,'DejaVu Sans Mono',consolas,'Courier New',monospace\"><span style=\"font-weight: bold\"> Optimizer params: </span><span style=\"color: #00af00; text-decoration-color: #00af00\">407,052</span> (1.55 MB)\n",
       "</pre>\n"
      ],
      "text/plain": [
       "\u001b[1m Optimizer params: \u001b[0m\u001b[38;5;34m407,052\u001b[0m (1.55 MB)\n"
      ]
     },
     "metadata": {},
     "output_type": "display_data"
    }
   ],
   "source": [
    "model.summary() ## (784+1)*512= 401920 (512+1)*10=5130"
   ]
  },
  {
   "cell_type": "code",
   "execution_count": 33,
   "id": "f3521124-1a29-4d90-8119-0aef4803a130",
   "metadata": {},
   "outputs": [
    {
     "data": {
      "text/plain": [
       "[<KerasVariable shape=(784, 512), dtype=float32, path=sequential_3/dense_6/kernel>,\n",
       " <KerasVariable shape=(512,), dtype=float32, path=sequential_3/dense_6/bias>,\n",
       " <KerasVariable shape=(512, 10), dtype=float32, path=sequential_3/dense_7/kernel>,\n",
       " <KerasVariable shape=(10,), dtype=float32, path=sequential_3/dense_7/bias>]"
      ]
     },
     "execution_count": 33,
     "metadata": {},
     "output_type": "execute_result"
    }
   ],
   "source": [
    "model.weights"
   ]
  },
  {
   "cell_type": "code",
   "execution_count": 34,
   "id": "21a24e23-a28c-404d-94e8-4bdbf3f150bc",
   "metadata": {},
   "outputs": [
    {
     "data": {
      "text/plain": [
       "keras.src.backend.tensorflow.core.Variable"
      ]
     },
     "execution_count": 34,
     "metadata": {},
     "output_type": "execute_result"
    }
   ],
   "source": [
    "type(model.weights[0])"
   ]
  },
  {
   "cell_type": "markdown",
   "id": "d769445c-c0c5-4444-b089-31f94c5d21e8",
   "metadata": {},
   "source": [
    "**Using the model to make predictions**"
   ]
  },
  {
   "cell_type": "code",
   "execution_count": 21,
   "id": "2339fe58-e214-444e-9ca5-2bcd603c322f",
   "metadata": {},
   "outputs": [
    {
     "name": "stdout",
     "output_type": "stream",
     "text": [
      "1/1 [==============================] - 0s 129ms/step\n"
     ]
    },
    {
     "data": {
      "text/plain": [
       "array([4.0163970e-09, 6.5485853e-11, 8.8553161e-06, 1.0437955e-05,\n",
       "       4.4308567e-12, 2.5483031e-08, 5.6966889e-14, 9.9998027e-01,\n",
       "       9.3775675e-08, 2.2032589e-07], dtype=float32)"
      ]
     },
     "execution_count": 21,
     "metadata": {},
     "output_type": "execute_result"
    }
   ],
   "source": [
    "test_digits = test_images[0:10]\n",
    "predictions = model.predict(test_digits)\n",
    "predictions[0]"
   ]
  },
  {
   "cell_type": "code",
   "execution_count": 22,
   "id": "fb4bf0a3-6c10-4f5b-bb92-1ff48754289e",
   "metadata": {},
   "outputs": [
    {
     "data": {
      "text/plain": [
       "array([0.        , 0.        , 0.        , 0.        , 0.        ,\n",
       "       0.        , 0.        , 0.        , 0.        , 0.        ,\n",
       "       0.        , 0.        , 0.        , 0.        , 0.        ,\n",
       "       0.        , 0.        , 0.        , 0.        , 0.        ,\n",
       "       0.        , 0.        , 0.        , 0.        , 0.        ,\n",
       "       0.        , 0.        , 0.        , 0.        , 0.        ,\n",
       "       0.        , 0.        , 0.        , 0.        , 0.        ,\n",
       "       0.        , 0.        , 0.        , 0.        , 0.        ,\n",
       "       0.        , 0.        , 0.        , 0.        , 0.        ,\n",
       "       0.        , 0.        , 0.        , 0.        , 0.        ,\n",
       "       0.        , 0.        , 0.        , 0.        , 0.        ,\n",
       "       0.        , 0.        , 0.        , 0.        , 0.        ,\n",
       "       0.        , 0.        , 0.        , 0.        , 0.        ,\n",
       "       0.        , 0.        , 0.        , 0.        , 0.        ,\n",
       "       0.        , 0.        , 0.        , 0.        , 0.        ,\n",
       "       0.        , 0.        , 0.        , 0.        , 0.        ,\n",
       "       0.        , 0.        , 0.        , 0.        , 0.        ,\n",
       "       0.        , 0.        , 0.        , 0.        , 0.        ,\n",
       "       0.        , 0.        , 0.        , 0.        , 0.        ,\n",
       "       0.        , 0.        , 0.        , 0.        , 0.        ,\n",
       "       0.        , 0.        , 0.        , 0.        , 0.        ,\n",
       "       0.        , 0.        , 0.        , 0.        , 0.        ,\n",
       "       0.        , 0.        , 0.        , 0.        , 0.        ,\n",
       "       0.        , 0.        , 0.        , 0.        , 0.        ,\n",
       "       0.        , 0.        , 0.        , 0.        , 0.        ,\n",
       "       0.        , 0.        , 0.        , 0.        , 0.        ,\n",
       "       0.        , 0.        , 0.        , 0.        , 0.        ,\n",
       "       0.        , 0.        , 0.        , 0.        , 0.        ,\n",
       "       0.        , 0.        , 0.        , 0.        , 0.        ,\n",
       "       0.        , 0.        , 0.        , 0.        , 0.        ,\n",
       "       0.        , 0.        , 0.        , 0.        , 0.        ,\n",
       "       0.        , 0.        , 0.        , 0.        , 0.        ,\n",
       "       0.        , 0.        , 0.        , 0.        , 0.        ,\n",
       "       0.        , 0.        , 0.        , 0.        , 0.        ,\n",
       "       0.        , 0.        , 0.        , 0.        , 0.        ,\n",
       "       0.        , 0.        , 0.        , 0.        , 0.        ,\n",
       "       0.        , 0.        , 0.        , 0.        , 0.        ,\n",
       "       0.        , 0.        , 0.        , 0.        , 0.        ,\n",
       "       0.        , 0.        , 0.        , 0.        , 0.        ,\n",
       "       0.        , 0.        , 0.        , 0.        , 0.        ,\n",
       "       0.        , 0.        , 0.32941177, 0.7254902 , 0.62352943,\n",
       "       0.5921569 , 0.23529412, 0.14117648, 0.        , 0.        ,\n",
       "       0.        , 0.        , 0.        , 0.        , 0.        ,\n",
       "       0.        , 0.        , 0.        , 0.        , 0.        ,\n",
       "       0.        , 0.        , 0.        , 0.        , 0.        ,\n",
       "       0.        , 0.        , 0.        , 0.        , 0.        ,\n",
       "       0.87058824, 0.99607843, 0.99607843, 0.99607843, 0.99607843,\n",
       "       0.94509804, 0.7764706 , 0.7764706 , 0.7764706 , 0.7764706 ,\n",
       "       0.7764706 , 0.7764706 , 0.7764706 , 0.7764706 , 0.6666667 ,\n",
       "       0.20392157, 0.        , 0.        , 0.        , 0.        ,\n",
       "       0.        , 0.        , 0.        , 0.        , 0.        ,\n",
       "       0.        , 0.        , 0.        , 0.2627451 , 0.44705883,\n",
       "       0.28235295, 0.44705883, 0.6392157 , 0.8901961 , 0.99607843,\n",
       "       0.88235295, 0.99607843, 0.99607843, 0.99607843, 0.98039216,\n",
       "       0.8980392 , 0.99607843, 0.99607843, 0.54901963, 0.        ,\n",
       "       0.        , 0.        , 0.        , 0.        , 0.        ,\n",
       "       0.        , 0.        , 0.        , 0.        , 0.        ,\n",
       "       0.        , 0.        , 0.        , 0.        , 0.        ,\n",
       "       0.        , 0.06666667, 0.25882354, 0.05490196, 0.2627451 ,\n",
       "       0.2627451 , 0.2627451 , 0.23137255, 0.08235294, 0.9254902 ,\n",
       "       0.99607843, 0.41568628, 0.        , 0.        , 0.        ,\n",
       "       0.        , 0.        , 0.        , 0.        , 0.        ,\n",
       "       0.        , 0.        , 0.        , 0.        , 0.        ,\n",
       "       0.        , 0.        , 0.        , 0.        , 0.        ,\n",
       "       0.        , 0.        , 0.        , 0.        , 0.        ,\n",
       "       0.        , 0.3254902 , 0.99215686, 0.81960785, 0.07058824,\n",
       "       0.        , 0.        , 0.        , 0.        , 0.        ,\n",
       "       0.        , 0.        , 0.        , 0.        , 0.        ,\n",
       "       0.        , 0.        , 0.        , 0.        , 0.        ,\n",
       "       0.        , 0.        , 0.        , 0.        , 0.        ,\n",
       "       0.        , 0.        , 0.        , 0.08627451, 0.9137255 ,\n",
       "       1.        , 0.3254902 , 0.        , 0.        , 0.        ,\n",
       "       0.        , 0.        , 0.        , 0.        , 0.        ,\n",
       "       0.        , 0.        , 0.        , 0.        , 0.        ,\n",
       "       0.        , 0.        , 0.        , 0.        , 0.        ,\n",
       "       0.        , 0.        , 0.        , 0.        , 0.        ,\n",
       "       0.        , 0.5058824 , 0.99607843, 0.93333334, 0.17254902,\n",
       "       0.        , 0.        , 0.        , 0.        , 0.        ,\n",
       "       0.        , 0.        , 0.        , 0.        , 0.        ,\n",
       "       0.        , 0.        , 0.        , 0.        , 0.        ,\n",
       "       0.        , 0.        , 0.        , 0.        , 0.        ,\n",
       "       0.        , 0.        , 0.        , 0.23137255, 0.9764706 ,\n",
       "       0.99607843, 0.24313726, 0.        , 0.        , 0.        ,\n",
       "       0.        , 0.        , 0.        , 0.        , 0.        ,\n",
       "       0.        , 0.        , 0.        , 0.        , 0.        ,\n",
       "       0.        , 0.        , 0.        , 0.        , 0.        ,\n",
       "       0.        , 0.        , 0.        , 0.        , 0.        ,\n",
       "       0.        , 0.52156866, 0.99607843, 0.73333335, 0.01960784,\n",
       "       0.        , 0.        , 0.        , 0.        , 0.        ,\n",
       "       0.        , 0.        , 0.        , 0.        , 0.        ,\n",
       "       0.        , 0.        , 0.        , 0.        , 0.        ,\n",
       "       0.        , 0.        , 0.        , 0.        , 0.        ,\n",
       "       0.        , 0.        , 0.        , 0.03529412, 0.8039216 ,\n",
       "       0.972549  , 0.22745098, 0.        , 0.        , 0.        ,\n",
       "       0.        , 0.        , 0.        , 0.        , 0.        ,\n",
       "       0.        , 0.        , 0.        , 0.        , 0.        ,\n",
       "       0.        , 0.        , 0.        , 0.        , 0.        ,\n",
       "       0.        , 0.        , 0.        , 0.        , 0.        ,\n",
       "       0.        , 0.49411765, 0.99607843, 0.7137255 , 0.        ,\n",
       "       0.        , 0.        , 0.        , 0.        , 0.        ,\n",
       "       0.        , 0.        , 0.        , 0.        , 0.        ,\n",
       "       0.        , 0.        , 0.        , 0.        , 0.        ,\n",
       "       0.        , 0.        , 0.        , 0.        , 0.        ,\n",
       "       0.        , 0.        , 0.        , 0.29411766, 0.9843137 ,\n",
       "       0.9411765 , 0.22352941, 0.        , 0.        , 0.        ,\n",
       "       0.        , 0.        , 0.        , 0.        , 0.        ,\n",
       "       0.        , 0.        , 0.        , 0.        , 0.        ,\n",
       "       0.        , 0.        , 0.        , 0.        , 0.        ,\n",
       "       0.        , 0.        , 0.        , 0.        , 0.        ,\n",
       "       0.07450981, 0.8666667 , 0.99607843, 0.6509804 , 0.        ,\n",
       "       0.        , 0.        , 0.        , 0.        , 0.        ,\n",
       "       0.        , 0.        , 0.        , 0.        , 0.        ,\n",
       "       0.        , 0.        , 0.        , 0.        , 0.        ,\n",
       "       0.        , 0.        , 0.        , 0.        , 0.        ,\n",
       "       0.        , 0.        , 0.01176471, 0.79607844, 0.99607843,\n",
       "       0.85882354, 0.13725491, 0.        , 0.        , 0.        ,\n",
       "       0.        , 0.        , 0.        , 0.        , 0.        ,\n",
       "       0.        , 0.        , 0.        , 0.        , 0.        ,\n",
       "       0.        , 0.        , 0.        , 0.        , 0.        ,\n",
       "       0.        , 0.        , 0.        , 0.        , 0.        ,\n",
       "       0.14901961, 0.99607843, 0.99607843, 0.3019608 , 0.        ,\n",
       "       0.        , 0.        , 0.        , 0.        , 0.        ,\n",
       "       0.        , 0.        , 0.        , 0.        , 0.        ,\n",
       "       0.        , 0.        , 0.        , 0.        , 0.        ,\n",
       "       0.        , 0.        , 0.        , 0.        , 0.        ,\n",
       "       0.        , 0.        , 0.12156863, 0.8784314 , 0.99607843,\n",
       "       0.4509804 , 0.00392157, 0.        , 0.        , 0.        ,\n",
       "       0.        , 0.        , 0.        , 0.        , 0.        ,\n",
       "       0.        , 0.        , 0.        , 0.        , 0.        ,\n",
       "       0.        , 0.        , 0.        , 0.        , 0.        ,\n",
       "       0.        , 0.        , 0.        , 0.        , 0.        ,\n",
       "       0.52156866, 0.99607843, 0.99607843, 0.20392157, 0.        ,\n",
       "       0.        , 0.        , 0.        , 0.        , 0.        ,\n",
       "       0.        , 0.        , 0.        , 0.        , 0.        ,\n",
       "       0.        , 0.        , 0.        , 0.        , 0.        ,\n",
       "       0.        , 0.        , 0.        , 0.        , 0.        ,\n",
       "       0.        , 0.        , 0.23921569, 0.9490196 , 0.99607843,\n",
       "       0.99607843, 0.20392157, 0.        , 0.        , 0.        ,\n",
       "       0.        , 0.        , 0.        , 0.        , 0.        ,\n",
       "       0.        , 0.        , 0.        , 0.        , 0.        ,\n",
       "       0.        , 0.        , 0.        , 0.        , 0.        ,\n",
       "       0.        , 0.        , 0.        , 0.        , 0.        ,\n",
       "       0.4745098 , 0.99607843, 0.99607843, 0.85882354, 0.15686275,\n",
       "       0.        , 0.        , 0.        , 0.        , 0.        ,\n",
       "       0.        , 0.        , 0.        , 0.        , 0.        ,\n",
       "       0.        , 0.        , 0.        , 0.        , 0.        ,\n",
       "       0.        , 0.        , 0.        , 0.        , 0.        ,\n",
       "       0.        , 0.        , 0.        , 0.4745098 , 0.99607843,\n",
       "       0.8117647 , 0.07058824, 0.        , 0.        , 0.        ,\n",
       "       0.        , 0.        , 0.        , 0.        , 0.        ,\n",
       "       0.        , 0.        , 0.        , 0.        , 0.        ,\n",
       "       0.        , 0.        , 0.        , 0.        , 0.        ,\n",
       "       0.        , 0.        , 0.        , 0.        , 0.        ,\n",
       "       0.        , 0.        , 0.        , 0.        , 0.        ,\n",
       "       0.        , 0.        , 0.        , 0.        , 0.        ,\n",
       "       0.        , 0.        , 0.        , 0.        , 0.        ,\n",
       "       0.        , 0.        , 0.        , 0.        ], dtype=float32)"
      ]
     },
     "execution_count": 22,
     "metadata": {},
     "output_type": "execute_result"
    }
   ],
   "source": [
    "test_images[0]"
   ]
  },
  {
   "cell_type": "code",
   "execution_count": 23,
   "id": "13cf516c-00f9-4800-95f6-0353df0b3585",
   "metadata": {},
   "outputs": [
    {
     "data": {
      "text/plain": [
       "<tf.Tensor: shape=(10,), dtype=float32, numpy=\n",
       "array([4.0163970e-09, 6.5485853e-11, 8.8553161e-06, 1.0437955e-05,\n",
       "       4.4308398e-12, 2.5482983e-08, 5.6966889e-14, 9.9998027e-01,\n",
       "       9.3775675e-08, 2.2032589e-07], dtype=float32)>"
      ]
     },
     "execution_count": 23,
     "metadata": {},
     "output_type": "execute_result"
    }
   ],
   "source": [
    "model(test_digits)[0]"
   ]
  },
  {
   "cell_type": "code",
   "execution_count": 24,
   "id": "3437733e-c359-45c4-839e-4020e29070bd",
   "metadata": {},
   "outputs": [
    {
     "data": {
      "text/plain": [
       "(10, 10)"
      ]
     },
     "execution_count": 24,
     "metadata": {},
     "output_type": "execute_result"
    }
   ],
   "source": [
    "predictions.shape"
   ]
  },
  {
   "cell_type": "code",
   "execution_count": 25,
   "id": "7c184fb5-ebe0-45b9-bb16-8dc17e252ea5",
   "metadata": {},
   "outputs": [
    {
     "data": {
      "text/plain": [
       "7"
      ]
     },
     "execution_count": 25,
     "metadata": {},
     "output_type": "execute_result"
    }
   ],
   "source": [
    "predictions[0].argmax()"
   ]
  },
  {
   "cell_type": "code",
   "execution_count": 26,
   "id": "a103d183-39e7-4dfb-b71a-a557bdbc06b8",
   "metadata": {},
   "outputs": [
    {
     "data": {
      "text/plain": [
       "0.9999803"
      ]
     },
     "execution_count": 26,
     "metadata": {},
     "output_type": "execute_result"
    }
   ],
   "source": [
    "predictions[0][predictions[0].argmax()]"
   ]
  },
  {
   "cell_type": "code",
   "execution_count": 27,
   "id": "2a6cbee6-4782-4c37-89c3-9c75b012427a",
   "metadata": {},
   "outputs": [
    {
     "data": {
      "text/plain": [
       "7"
      ]
     },
     "execution_count": 27,
     "metadata": {},
     "output_type": "execute_result"
    }
   ],
   "source": [
    "test_labels[0]"
   ]
  },
  {
   "cell_type": "code",
   "execution_count": 28,
   "id": "b4908701-f852-4e64-b8fc-b18aa719427b",
   "metadata": {},
   "outputs": [
    {
     "name": "stdout",
     "output_type": "stream",
     "text": [
      "313/313 [==============================] - 1s 2ms/step - loss: 0.0649 - accuracy: 0.9810\n",
      "test_acc: 0.9810000061988831\n"
     ]
    }
   ],
   "source": [
    "test_loss, test_acc = model.evaluate(test_images, test_labels)\n",
    "print(f\"test_acc: {test_acc}\")"
   ]
  },
  {
   "cell_type": "markdown",
   "id": "a00dab76-b9f3-428a-9810-f1c20db30386",
   "metadata": {},
   "source": [
    "## Classifying movie reviews: A binary classification example"
   ]
  },
  {
   "cell_type": "markdown",
   "id": "c3643c09-4069-48ef-90bb-e9f36ae863d8",
   "metadata": {},
   "source": [
    "## The IMDB dataset"
   ]
  },
  {
   "cell_type": "markdown",
   "id": "37d19d52-f1a4-4707-91d7-62aa79a4df00",
   "metadata": {},
   "source": [
    "**Loading the IMDB dataset**"
   ]
  },
  {
   "cell_type": "code",
   "execution_count": 29,
   "id": "21127b1b-895a-4ec3-b5e5-fc2980cc9c45",
   "metadata": {},
   "outputs": [],
   "source": [
    "from tensorflow.keras.datasets import imdb\n",
    "(train_data, train_labels), (test_data, test_labels) = imdb.load_data(\n",
    "    num_words=10000)"
   ]
  },
  {
   "cell_type": "code",
   "execution_count": null,
   "id": "47ed0e24-8881-4dae-bbb0-6a4ef6d9204f",
   "metadata": {},
   "outputs": [],
   "source": []
  },
  {
   "cell_type": "code",
   "execution_count": 30,
   "id": "bbcd74e1-a219-425c-bbc4-600236d46a70",
   "metadata": {},
   "outputs": [
    {
     "data": {
      "text/plain": [
       "numpy.ndarray"
      ]
     },
     "execution_count": 30,
     "metadata": {},
     "output_type": "execute_result"
    }
   ],
   "source": [
    "type(train_data)"
   ]
  },
  {
   "cell_type": "code",
   "execution_count": 31,
   "id": "19bdd07c-8dd7-4911-b521-e10728b1839c",
   "metadata": {},
   "outputs": [
    {
     "data": {
      "text/plain": [
       "[1,\n",
       " 14,\n",
       " 22,\n",
       " 16,\n",
       " 43,\n",
       " 530,\n",
       " 973,\n",
       " 1622,\n",
       " 1385,\n",
       " 65,\n",
       " 458,\n",
       " 4468,\n",
       " 66,\n",
       " 3941,\n",
       " 4,\n",
       " 173,\n",
       " 36,\n",
       " 256,\n",
       " 5,\n",
       " 25,\n",
       " 100,\n",
       " 43,\n",
       " 838,\n",
       " 112,\n",
       " 50,\n",
       " 670,\n",
       " 2,\n",
       " 9,\n",
       " 35,\n",
       " 480,\n",
       " 284,\n",
       " 5,\n",
       " 150,\n",
       " 4,\n",
       " 172,\n",
       " 112,\n",
       " 167,\n",
       " 2,\n",
       " 336,\n",
       " 385,\n",
       " 39,\n",
       " 4,\n",
       " 172,\n",
       " 4536,\n",
       " 1111,\n",
       " 17,\n",
       " 546,\n",
       " 38,\n",
       " 13,\n",
       " 447,\n",
       " 4,\n",
       " 192,\n",
       " 50,\n",
       " 16,\n",
       " 6,\n",
       " 147,\n",
       " 2025,\n",
       " 19,\n",
       " 14,\n",
       " 22,\n",
       " 4,\n",
       " 1920,\n",
       " 4613,\n",
       " 469,\n",
       " 4,\n",
       " 22,\n",
       " 71,\n",
       " 87,\n",
       " 12,\n",
       " 16,\n",
       " 43,\n",
       " 530,\n",
       " 38,\n",
       " 76,\n",
       " 15,\n",
       " 13,\n",
       " 1247,\n",
       " 4,\n",
       " 22,\n",
       " 17,\n",
       " 515,\n",
       " 17,\n",
       " 12,\n",
       " 16,\n",
       " 626,\n",
       " 18,\n",
       " 2,\n",
       " 5,\n",
       " 62,\n",
       " 386,\n",
       " 12,\n",
       " 8,\n",
       " 316,\n",
       " 8,\n",
       " 106,\n",
       " 5,\n",
       " 4,\n",
       " 2223,\n",
       " 5244,\n",
       " 16,\n",
       " 480,\n",
       " 66,\n",
       " 3785,\n",
       " 33,\n",
       " 4,\n",
       " 130,\n",
       " 12,\n",
       " 16,\n",
       " 38,\n",
       " 619,\n",
       " 5,\n",
       " 25,\n",
       " 124,\n",
       " 51,\n",
       " 36,\n",
       " 135,\n",
       " 48,\n",
       " 25,\n",
       " 1415,\n",
       " 33,\n",
       " 6,\n",
       " 22,\n",
       " 12,\n",
       " 215,\n",
       " 28,\n",
       " 77,\n",
       " 52,\n",
       " 5,\n",
       " 14,\n",
       " 407,\n",
       " 16,\n",
       " 82,\n",
       " 2,\n",
       " 8,\n",
       " 4,\n",
       " 107,\n",
       " 117,\n",
       " 5952,\n",
       " 15,\n",
       " 256,\n",
       " 4,\n",
       " 2,\n",
       " 7,\n",
       " 3766,\n",
       " 5,\n",
       " 723,\n",
       " 36,\n",
       " 71,\n",
       " 43,\n",
       " 530,\n",
       " 476,\n",
       " 26,\n",
       " 400,\n",
       " 317,\n",
       " 46,\n",
       " 7,\n",
       " 4,\n",
       " 2,\n",
       " 1029,\n",
       " 13,\n",
       " 104,\n",
       " 88,\n",
       " 4,\n",
       " 381,\n",
       " 15,\n",
       " 297,\n",
       " 98,\n",
       " 32,\n",
       " 2071,\n",
       " 56,\n",
       " 26,\n",
       " 141,\n",
       " 6,\n",
       " 194,\n",
       " 7486,\n",
       " 18,\n",
       " 4,\n",
       " 226,\n",
       " 22,\n",
       " 21,\n",
       " 134,\n",
       " 476,\n",
       " 26,\n",
       " 480,\n",
       " 5,\n",
       " 144,\n",
       " 30,\n",
       " 5535,\n",
       " 18,\n",
       " 51,\n",
       " 36,\n",
       " 28,\n",
       " 224,\n",
       " 92,\n",
       " 25,\n",
       " 104,\n",
       " 4,\n",
       " 226,\n",
       " 65,\n",
       " 16,\n",
       " 38,\n",
       " 1334,\n",
       " 88,\n",
       " 12,\n",
       " 16,\n",
       " 283,\n",
       " 5,\n",
       " 16,\n",
       " 4472,\n",
       " 113,\n",
       " 103,\n",
       " 32,\n",
       " 15,\n",
       " 16,\n",
       " 5345,\n",
       " 19,\n",
       " 178,\n",
       " 32]"
      ]
     },
     "execution_count": 31,
     "metadata": {},
     "output_type": "execute_result"
    }
   ],
   "source": [
    "train_data[0]"
   ]
  },
  {
   "cell_type": "code",
   "execution_count": 32,
   "id": "ee6e240e-88ac-43d4-87ec-0696f4bc6aa2",
   "metadata": {},
   "outputs": [
    {
     "name": "stdout",
     "output_type": "stream",
     "text": [
      "218\n",
      "189\n"
     ]
    }
   ],
   "source": [
    "print(len(train_data[0]))\n",
    "print(len(train_data[1]))"
   ]
  },
  {
   "cell_type": "code",
   "execution_count": 33,
   "id": "40a8ca1b-3074-46aa-8454-55ebcaf1754c",
   "metadata": {},
   "outputs": [
    {
     "data": {
      "text/plain": [
       "1"
      ]
     },
     "execution_count": 33,
     "metadata": {},
     "output_type": "execute_result"
    }
   ],
   "source": [
    "train_labels[0] ## 0 stands for negative and 1 stands for positive "
   ]
  },
  {
   "cell_type": "code",
   "execution_count": 34,
   "id": "db5f1349-c452-4c51-812f-87c2582963f2",
   "metadata": {},
   "outputs": [
    {
     "data": {
      "text/plain": [
       "9999"
      ]
     },
     "execution_count": 34,
     "metadata": {},
     "output_type": "execute_result"
    }
   ],
   "source": [
    "max([max(sequence) for sequence in train_data])"
   ]
  },
  {
   "cell_type": "markdown",
   "id": "0e95bb38-773f-4720-9535-8f8519453c9e",
   "metadata": {},
   "source": [
    "**Decoding reviews back to text**"
   ]
  },
  {
   "cell_type": "code",
   "execution_count": 35,
   "id": "1d9bc45c-c96b-42f6-9500-ddc565393fcb",
   "metadata": {},
   "outputs": [
    {
     "data": {
      "text/plain": [
       "dict"
      ]
     },
     "execution_count": 35,
     "metadata": {},
     "output_type": "execute_result"
    }
   ],
   "source": [
    "word_index = imdb.get_word_index()\n",
    "type(word_index)"
   ]
  },
  {
   "cell_type": "code",
   "execution_count": 36,
   "id": "9f96002a-829d-4daf-aeea-532aca1c253b",
   "metadata": {},
   "outputs": [
    {
     "data": {
      "text/plain": [
       "['fawn',\n",
       " 'tsukino',\n",
       " 'nunnery',\n",
       " 'sonja',\n",
       " 'vani',\n",
       " 'woods',\n",
       " 'spiders',\n",
       " 'hanging',\n",
       " 'woody',\n",
       " 'trawling']"
      ]
     },
     "execution_count": 36,
     "metadata": {},
     "output_type": "execute_result"
    }
   ],
   "source": [
    "list(word_index.keys())[0:10]"
   ]
  },
  {
   "cell_type": "code",
   "execution_count": 37,
   "id": "947428b7-46d6-4340-ae49-bf87f6625c09",
   "metadata": {},
   "outputs": [
    {
     "data": {
      "text/plain": [
       "34701"
      ]
     },
     "execution_count": 37,
     "metadata": {},
     "output_type": "execute_result"
    }
   ],
   "source": [
    "word_index['fawn']"
   ]
  },
  {
   "cell_type": "code",
   "execution_count": 38,
   "id": "e2dcee03-2527-4738-be95-2c43a3288295",
   "metadata": {},
   "outputs": [
    {
     "data": {
      "text/plain": [
       "1408"
      ]
     },
     "execution_count": 38,
     "metadata": {},
     "output_type": "execute_result"
    }
   ],
   "source": [
    "word_index['woods']"
   ]
  },
  {
   "cell_type": "code",
   "execution_count": 39,
   "id": "ffb7174d-f36c-4838-8bf1-2aaa4595bc64",
   "metadata": {},
   "outputs": [
    {
     "data": {
      "text/plain": [
       "[('fawn', 34701),\n",
       " ('tsukino', 52006),\n",
       " ('nunnery', 52007),\n",
       " ('sonja', 16816),\n",
       " ('vani', 63951),\n",
       " ('woods', 1408),\n",
       " ('spiders', 16115),\n",
       " ('hanging', 2345),\n",
       " ('woody', 2289),\n",
       " ('trawling', 52008)]"
      ]
     },
     "execution_count": 39,
     "metadata": {},
     "output_type": "execute_result"
    }
   ],
   "source": [
    "list(word_index.items())[0:10]"
   ]
  },
  {
   "cell_type": "code",
   "execution_count": 40,
   "id": "001e02c8-6af5-4a41-9262-896e13ea8eb5",
   "metadata": {},
   "outputs": [],
   "source": [
    "reverse_word_index = dict(\n",
    "    [(value, key) for (key, value) in word_index.items()])\n",
    "reverse_word_index1 = dict(\n",
    "    [(value, key) for (key, value) in list(word_index.items())])"
   ]
  },
  {
   "cell_type": "code",
   "execution_count": 41,
   "id": "52bbf2a3-b7e4-423b-b981-16b2f99ee81e",
   "metadata": {},
   "outputs": [
    {
     "data": {
      "text/plain": [
       "True"
      ]
     },
     "execution_count": 41,
     "metadata": {},
     "output_type": "execute_result"
    }
   ],
   "source": [
    "reverse_word_index == reverse_word_index1"
   ]
  },
  {
   "cell_type": "code",
   "execution_count": 42,
   "id": "d1f0a863-91e1-4477-a29a-1f656cf09cb9",
   "metadata": {},
   "outputs": [],
   "source": [
    "decoded_review = \" \".join(\n",
    "    [reverse_word_index.get(i - 3, \"?\") for i in train_data[0]])\n",
    "## the indices are offset by 3 because 0, 1 and 2 are reserved indices for \"padding\", \"start of sequence\" and \"unknown\""
   ]
  },
  {
   "cell_type": "code",
   "execution_count": 43,
   "id": "a95ecf4d-1890-49fb-a740-f3d4b2b2ffe3",
   "metadata": {},
   "outputs": [
    {
     "data": {
      "text/plain": [
       "[1,\n",
       " 14,\n",
       " 22,\n",
       " 16,\n",
       " 43,\n",
       " 530,\n",
       " 973,\n",
       " 1622,\n",
       " 1385,\n",
       " 65,\n",
       " 458,\n",
       " 4468,\n",
       " 66,\n",
       " 3941,\n",
       " 4,\n",
       " 173,\n",
       " 36,\n",
       " 256,\n",
       " 5,\n",
       " 25,\n",
       " 100,\n",
       " 43,\n",
       " 838,\n",
       " 112,\n",
       " 50,\n",
       " 670,\n",
       " 2,\n",
       " 9,\n",
       " 35,\n",
       " 480,\n",
       " 284,\n",
       " 5,\n",
       " 150,\n",
       " 4,\n",
       " 172,\n",
       " 112,\n",
       " 167,\n",
       " 2,\n",
       " 336,\n",
       " 385,\n",
       " 39,\n",
       " 4,\n",
       " 172,\n",
       " 4536,\n",
       " 1111,\n",
       " 17,\n",
       " 546,\n",
       " 38,\n",
       " 13,\n",
       " 447,\n",
       " 4,\n",
       " 192,\n",
       " 50,\n",
       " 16,\n",
       " 6,\n",
       " 147,\n",
       " 2025,\n",
       " 19,\n",
       " 14,\n",
       " 22,\n",
       " 4,\n",
       " 1920,\n",
       " 4613,\n",
       " 469,\n",
       " 4,\n",
       " 22,\n",
       " 71,\n",
       " 87,\n",
       " 12,\n",
       " 16,\n",
       " 43,\n",
       " 530,\n",
       " 38,\n",
       " 76,\n",
       " 15,\n",
       " 13,\n",
       " 1247,\n",
       " 4,\n",
       " 22,\n",
       " 17,\n",
       " 515,\n",
       " 17,\n",
       " 12,\n",
       " 16,\n",
       " 626,\n",
       " 18,\n",
       " 2,\n",
       " 5,\n",
       " 62,\n",
       " 386,\n",
       " 12,\n",
       " 8,\n",
       " 316,\n",
       " 8,\n",
       " 106,\n",
       " 5,\n",
       " 4,\n",
       " 2223,\n",
       " 5244,\n",
       " 16,\n",
       " 480,\n",
       " 66,\n",
       " 3785,\n",
       " 33,\n",
       " 4,\n",
       " 130,\n",
       " 12,\n",
       " 16,\n",
       " 38,\n",
       " 619,\n",
       " 5,\n",
       " 25,\n",
       " 124,\n",
       " 51,\n",
       " 36,\n",
       " 135,\n",
       " 48,\n",
       " 25,\n",
       " 1415,\n",
       " 33,\n",
       " 6,\n",
       " 22,\n",
       " 12,\n",
       " 215,\n",
       " 28,\n",
       " 77,\n",
       " 52,\n",
       " 5,\n",
       " 14,\n",
       " 407,\n",
       " 16,\n",
       " 82,\n",
       " 2,\n",
       " 8,\n",
       " 4,\n",
       " 107,\n",
       " 117,\n",
       " 5952,\n",
       " 15,\n",
       " 256,\n",
       " 4,\n",
       " 2,\n",
       " 7,\n",
       " 3766,\n",
       " 5,\n",
       " 723,\n",
       " 36,\n",
       " 71,\n",
       " 43,\n",
       " 530,\n",
       " 476,\n",
       " 26,\n",
       " 400,\n",
       " 317,\n",
       " 46,\n",
       " 7,\n",
       " 4,\n",
       " 2,\n",
       " 1029,\n",
       " 13,\n",
       " 104,\n",
       " 88,\n",
       " 4,\n",
       " 381,\n",
       " 15,\n",
       " 297,\n",
       " 98,\n",
       " 32,\n",
       " 2071,\n",
       " 56,\n",
       " 26,\n",
       " 141,\n",
       " 6,\n",
       " 194,\n",
       " 7486,\n",
       " 18,\n",
       " 4,\n",
       " 226,\n",
       " 22,\n",
       " 21,\n",
       " 134,\n",
       " 476,\n",
       " 26,\n",
       " 480,\n",
       " 5,\n",
       " 144,\n",
       " 30,\n",
       " 5535,\n",
       " 18,\n",
       " 51,\n",
       " 36,\n",
       " 28,\n",
       " 224,\n",
       " 92,\n",
       " 25,\n",
       " 104,\n",
       " 4,\n",
       " 226,\n",
       " 65,\n",
       " 16,\n",
       " 38,\n",
       " 1334,\n",
       " 88,\n",
       " 12,\n",
       " 16,\n",
       " 283,\n",
       " 5,\n",
       " 16,\n",
       " 4472,\n",
       " 113,\n",
       " 103,\n",
       " 32,\n",
       " 15,\n",
       " 16,\n",
       " 5345,\n",
       " 19,\n",
       " 178,\n",
       " 32]"
      ]
     },
     "execution_count": 43,
     "metadata": {},
     "output_type": "execute_result"
    }
   ],
   "source": [
    "train_data[0]"
   ]
  },
  {
   "cell_type": "code",
   "execution_count": 44,
   "id": "f1ab1f06-6efa-4feb-a1ea-75b3e3c35eb5",
   "metadata": {},
   "outputs": [
    {
     "data": {
      "text/plain": [
       "\"? this film was just brilliant casting location scenery story direction everyone's really suited the part they played and you could just imagine being there robert ? is an amazing actor and now the same being director ? father came from the same scottish island as myself so i loved the fact there was a real connection with this film the witty remarks throughout the film were great it was just brilliant so much that i bought the film as soon as it was released for ? and would recommend it to everyone to watch and the fly fishing was amazing really cried at the end it was so sad and you know what they say if you cry at a film it must have been good and this definitely was also ? to the two little boy's that played the ? of norman and paul they were just brilliant children are often left out of the ? list i think because the stars that play them all grown up are such a big profile for the whole film but these children are amazing and should be praised for what they have done don't you think the whole story was so lovely because it was true and was someone's life after all that was shared with us all\""
      ]
     },
     "execution_count": 44,
     "metadata": {},
     "output_type": "execute_result"
    }
   ],
   "source": [
    "decoded_review"
   ]
  },
  {
   "cell_type": "markdown",
   "id": "77ef9aba-22f2-44d4-84a2-e62b71e1edea",
   "metadata": {},
   "source": [
    "### Preparing the data"
   ]
  },
  {
   "cell_type": "markdown",
   "id": "c8de877b-5784-43c2-bd9a-3a0b10a41e78",
   "metadata": {},
   "source": [
    "**Encoding the integer sequences via multi-hot encoding**"
   ]
  },
  {
   "cell_type": "code",
   "execution_count": 45,
   "id": "eb1ad7cd-02ee-4b9f-8695-85e2e3e7d514",
   "metadata": {},
   "outputs": [],
   "source": [
    "import numpy as np\n",
    "def vectorize_sequences(sequences, dimension=10000):\n",
    "    results = np.zeros((len(sequences), dimension))\n",
    "    for i, sequence in enumerate(sequences):\n",
    "        for j in sequence:\n",
    "            results[i, j] = 1.\n",
    "    return results"
   ]
  },
  {
   "cell_type": "code",
   "execution_count": 46,
   "id": "c105f8e9-d0eb-4d01-a2a7-bce18183ce0b",
   "metadata": {},
   "outputs": [],
   "source": [
    "def vectorize_sequences_count(sequences, dimension=10000):\n",
    "    results = np.zeros((len(sequences), dimension))\n",
    "    for i, sequence in enumerate(sequences):\n",
    "        for j in sequence:\n",
    "            results[i, j] += 1.\n",
    "    return results"
   ]
  },
  {
   "cell_type": "code",
   "execution_count": 47,
   "id": "f8095321-d6af-41f3-a1d7-747fcfe7ac34",
   "metadata": {},
   "outputs": [
    {
     "data": {
      "text/plain": [
       "array([0., 1., 1., ..., 0., 0., 0.])"
      ]
     },
     "execution_count": 47,
     "metadata": {},
     "output_type": "execute_result"
    }
   ],
   "source": [
    "x_train = vectorize_sequences(train_data)\n",
    "x_test = vectorize_sequences(test_data)\n",
    "x_train[0]"
   ]
  },
  {
   "cell_type": "code",
   "execution_count": 48,
   "id": "3c5084a2-6f42-40af-af16-8074a88208e5",
   "metadata": {},
   "outputs": [],
   "source": [
    "x_train1 = vectorize_sequences_count(train_data)"
   ]
  },
  {
   "cell_type": "code",
   "execution_count": 49,
   "id": "a1d80b89-9edf-4ef4-9bdd-2d01d0e5f7f1",
   "metadata": {},
   "outputs": [
    {
     "data": {
      "text/plain": [
       "15.0"
      ]
     },
     "execution_count": 49,
     "metadata": {},
     "output_type": "execute_result"
    }
   ],
   "source": [
    "max(x_train1[0])"
   ]
  },
  {
   "cell_type": "code",
   "execution_count": 50,
   "id": "ed17395b-cc74-48c7-af7a-32156a803f19",
   "metadata": {},
   "outputs": [
    {
     "data": {
      "text/plain": [
       "10000"
      ]
     },
     "execution_count": 50,
     "metadata": {},
     "output_type": "execute_result"
    }
   ],
   "source": [
    "len(x_train[0])\n"
   ]
  },
  {
   "cell_type": "code",
   "execution_count": 51,
   "id": "2582324a-61c3-4cee-8205-35b89aad1ebb",
   "metadata": {},
   "outputs": [
    {
     "data": {
      "text/plain": [
       "120.0"
      ]
     },
     "execution_count": 51,
     "metadata": {},
     "output_type": "execute_result"
    }
   ],
   "source": [
    "sum(x_train[0])"
   ]
  },
  {
   "cell_type": "code",
   "execution_count": 52,
   "id": "df8253bf-838a-4a6a-b2f1-a4d905e26c70",
   "metadata": {},
   "outputs": [
    {
     "data": {
      "text/plain": [
       "1.0"
      ]
     },
     "execution_count": 52,
     "metadata": {},
     "output_type": "execute_result"
    }
   ],
   "source": [
    "max(x_train[100])"
   ]
  },
  {
   "cell_type": "code",
   "execution_count": 53,
   "id": "60c21205-a6e8-4a05-ba36-8ee4c167b526",
   "metadata": {},
   "outputs": [],
   "source": [
    "## vectorize the labels"
   ]
  },
  {
   "cell_type": "code",
   "execution_count": 54,
   "id": "e8715491-4e9c-4691-8047-8ef08a8ff919",
   "metadata": {},
   "outputs": [
    {
     "data": {
      "text/plain": [
       "array([1, 0, 0, ..., 0, 1, 0], dtype=int64)"
      ]
     },
     "execution_count": 54,
     "metadata": {},
     "output_type": "execute_result"
    }
   ],
   "source": [
    "train_labels"
   ]
  },
  {
   "cell_type": "markdown",
   "id": "e7a9103e-39d9-4c69-9953-2f614e5a1388",
   "metadata": {},
   "source": [
    "### Building your model"
   ]
  },
  {
   "cell_type": "code",
   "execution_count": 55,
   "id": "fd5630d9-7ae6-4495-9af5-011a3181253f",
   "metadata": {},
   "outputs": [],
   "source": [
    "from tensorflow import keras\n",
    "from tensorflow.keras import layers\n",
    "\n",
    "model = keras.Sequential([\n",
    "    layers.Dense(16, activation=\"relu\"),\n",
    "    layers.Dense(16, activation=\"relu\"),\n",
    "    layers.Dense(1, activation=\"sigmoid\")\n",
    "])"
   ]
  },
  {
   "cell_type": "code",
   "execution_count": 56,
   "id": "e0ed0d93-cf33-49df-b462-e6c6433a30f0",
   "metadata": {},
   "outputs": [],
   "source": [
    "model.compile(optimizer=\"rmsprop\",\n",
    "              loss=\"binary_crossentropy\",\n",
    "              metrics=[\"accuracy\"])"
   ]
  },
  {
   "cell_type": "code",
   "execution_count": 57,
   "id": "c0807d3d-4887-44b9-a251-2d3fe09b0f7d",
   "metadata": {},
   "outputs": [],
   "source": [
    "y_train = train_labels\n",
    "y_test = test_labels\n",
    "## textbook used y_train = np.asarray(train_labels).astype(\"float32\") \n",
    "## I didn't see difference\n",
    "\n",
    "\n",
    "x_val = x_train[:10000]\n",
    "partial_x_train = x_train[10000:]\n",
    "y_val = y_train[:10000]\n",
    "partial_y_train = y_train[10000:]"
   ]
  },
  {
   "cell_type": "code",
   "execution_count": 58,
   "id": "0ddfc37e-4e63-430d-b422-e509e1ad56c7",
   "metadata": {},
   "outputs": [
    {
     "name": "stdout",
     "output_type": "stream",
     "text": [
      "Epoch 1/20\n",
      "30/30 [==============================] - 2s 34ms/step - loss: 0.5254 - accuracy: 0.7733 - val_loss: 0.3973 - val_accuracy: 0.8719\n",
      "Epoch 2/20\n",
      "30/30 [==============================] - 0s 12ms/step - loss: 0.3147 - accuracy: 0.9034 - val_loss: 0.3177 - val_accuracy: 0.8795\n",
      "Epoch 3/20\n",
      "30/30 [==============================] - 0s 13ms/step - loss: 0.2288 - accuracy: 0.9253 - val_loss: 0.3580 - val_accuracy: 0.8495\n",
      "Epoch 4/20\n",
      "30/30 [==============================] - 0s 13ms/step - loss: 0.1827 - accuracy: 0.9412 - val_loss: 0.2762 - val_accuracy: 0.8887\n",
      "Epoch 5/20\n",
      "30/30 [==============================] - 0s 12ms/step - loss: 0.1502 - accuracy: 0.9526 - val_loss: 0.2859 - val_accuracy: 0.8876\n",
      "Epoch 6/20\n",
      "30/30 [==============================] - 0s 12ms/step - loss: 0.1253 - accuracy: 0.9619 - val_loss: 0.3028 - val_accuracy: 0.8835\n",
      "Epoch 7/20\n",
      "30/30 [==============================] - 0s 13ms/step - loss: 0.1036 - accuracy: 0.9688 - val_loss: 0.3064 - val_accuracy: 0.8841\n",
      "Epoch 8/20\n",
      "30/30 [==============================] - 0s 13ms/step - loss: 0.0871 - accuracy: 0.9763 - val_loss: 0.3320 - val_accuracy: 0.8806\n",
      "Epoch 9/20\n",
      "30/30 [==============================] - 0s 13ms/step - loss: 0.0730 - accuracy: 0.9812 - val_loss: 0.3427 - val_accuracy: 0.8822\n",
      "Epoch 10/20\n",
      "30/30 [==============================] - 0s 13ms/step - loss: 0.0590 - accuracy: 0.9856 - val_loss: 0.3769 - val_accuracy: 0.8764\n",
      "Epoch 11/20\n",
      "30/30 [==============================] - 0s 13ms/step - loss: 0.0510 - accuracy: 0.9878 - val_loss: 0.3939 - val_accuracy: 0.8756\n",
      "Epoch 12/20\n",
      "30/30 [==============================] - 0s 12ms/step - loss: 0.0403 - accuracy: 0.9917 - val_loss: 0.4595 - val_accuracy: 0.8673\n",
      "Epoch 13/20\n",
      "30/30 [==============================] - 0s 12ms/step - loss: 0.0363 - accuracy: 0.9916 - val_loss: 0.4444 - val_accuracy: 0.8729\n",
      "Epoch 14/20\n",
      "30/30 [==============================] - 0s 12ms/step - loss: 0.0270 - accuracy: 0.9952 - val_loss: 0.5041 - val_accuracy: 0.8671\n",
      "Epoch 15/20\n",
      "30/30 [==============================] - 0s 12ms/step - loss: 0.0218 - accuracy: 0.9967 - val_loss: 0.5089 - val_accuracy: 0.8718\n",
      "Epoch 16/20\n",
      "30/30 [==============================] - 0s 13ms/step - loss: 0.0200 - accuracy: 0.9962 - val_loss: 0.5486 - val_accuracy: 0.8686\n",
      "Epoch 17/20\n",
      "30/30 [==============================] - 0s 13ms/step - loss: 0.0129 - accuracy: 0.9989 - val_loss: 0.5670 - val_accuracy: 0.8685\n",
      "Epoch 18/20\n",
      "30/30 [==============================] - 0s 13ms/step - loss: 0.0120 - accuracy: 0.9986 - val_loss: 0.6038 - val_accuracy: 0.8668\n",
      "Epoch 19/20\n",
      "30/30 [==============================] - 0s 13ms/step - loss: 0.0089 - accuracy: 0.9994 - val_loss: 0.6321 - val_accuracy: 0.8672\n",
      "Epoch 20/20\n",
      "30/30 [==============================] - 0s 12ms/step - loss: 0.0079 - accuracy: 0.9991 - val_loss: 0.6672 - val_accuracy: 0.8637\n"
     ]
    }
   ],
   "source": [
    "history = model.fit(partial_x_train,\n",
    "                    partial_y_train,\n",
    "                    epochs=20,\n",
    "                    batch_size=512,\n",
    "                    validation_data=(x_val, y_val))"
   ]
  },
  {
   "cell_type": "code",
   "execution_count": 59,
   "id": "47358e1f-a476-4d77-aa1f-98d675aa2573",
   "metadata": {},
   "outputs": [
    {
     "data": {
      "text/plain": [
       "dict_keys(['loss', 'accuracy', 'val_loss', 'val_accuracy'])"
      ]
     },
     "execution_count": 59,
     "metadata": {},
     "output_type": "execute_result"
    }
   ],
   "source": [
    "history_dict = history.history\n",
    "history_dict.keys() ## dictionary shows keys"
   ]
  },
  {
   "cell_type": "code",
   "execution_count": 60,
   "id": "f555eec9-93c4-4bcb-a904-62faa18d6097",
   "metadata": {},
   "outputs": [
    {
     "data": {
      "text/plain": [
       "dict"
      ]
     },
     "execution_count": 60,
     "metadata": {},
     "output_type": "execute_result"
    }
   ],
   "source": [
    "type(history_dict)"
   ]
  },
  {
   "cell_type": "code",
   "execution_count": 61,
   "id": "3a593d1b-5300-4712-8bcb-46bd56bb8085",
   "metadata": {
    "scrolled": true
   },
   "outputs": [
    {
     "data": {
      "text/plain": [
       "[0.525359570980072,\n",
       " 0.3147396147251129,\n",
       " 0.22881221771240234,\n",
       " 0.18273219466209412,\n",
       " 0.1502470076084137,\n",
       " 0.1253116875886917,\n",
       " 0.1036248430609703,\n",
       " 0.08712359517812729,\n",
       " 0.072992242872715,\n",
       " 0.059029895812273026,\n",
       " 0.05101172253489494,\n",
       " 0.04033149033784866,\n",
       " 0.036273740231990814,\n",
       " 0.02700718306005001,\n",
       " 0.021778803318738937,\n",
       " 0.01995353400707245,\n",
       " 0.01287259440869093,\n",
       " 0.012022835202515125,\n",
       " 0.008889158256351948,\n",
       " 0.007885392755270004]"
      ]
     },
     "execution_count": 61,
     "metadata": {},
     "output_type": "execute_result"
    }
   ],
   "source": [
    "history_dict['loss']"
   ]
  },
  {
   "cell_type": "code",
   "execution_count": 62,
   "id": "1370b5bd-8bf1-438d-b4dc-945bc312f2d3",
   "metadata": {},
   "outputs": [
    {
     "data": {
      "text/plain": [
       "[0.39728546142578125,\n",
       " 0.31768953800201416,\n",
       " 0.35801994800567627,\n",
       " 0.27622559666633606,\n",
       " 0.2859474718570709,\n",
       " 0.30281099677085876,\n",
       " 0.3063752353191376,\n",
       " 0.33199405670166016,\n",
       " 0.34268322587013245,\n",
       " 0.376909464597702,\n",
       " 0.3938892185688019,\n",
       " 0.4594653844833374,\n",
       " 0.4444006383419037,\n",
       " 0.5041442513465881,\n",
       " 0.508933961391449,\n",
       " 0.5485506057739258,\n",
       " 0.5670300126075745,\n",
       " 0.60383540391922,\n",
       " 0.632100522518158,\n",
       " 0.6672452092170715]"
      ]
     },
     "execution_count": 62,
     "metadata": {},
     "output_type": "execute_result"
    }
   ],
   "source": [
    "history_dict['val_loss']"
   ]
  },
  {
   "cell_type": "code",
   "execution_count": 63,
   "id": "59e00408-7f53-423a-b6b4-71d17fb07665",
   "metadata": {},
   "outputs": [
    {
     "data": {
      "image/png": "[encoded data removed]",
      "text/plain": [
       "<Figure size 640x480 with 1 Axes>"
      ]
     },
     "metadata": {},
     "output_type": "display_data"
    }
   ],
   "source": [
    "import matplotlib.pyplot as plt\n",
    "history_dict = history.history\n",
    "loss_values = history_dict[\"loss\"]\n",
    "val_loss_values = history_dict[\"val_loss\"]\n",
    "epochs = range(1, len(loss_values) + 1)\n",
    "plt.plot(epochs, loss_values, \"bo\", label=\"Training loss\")\n",
    "plt.plot(epochs, val_loss_values, \"b\", label=\"Validation loss\")\n",
    "plt.title(\"Training and validation loss\")\n",
    "plt.xlabel(\"Epochs\")\n",
    "plt.ylabel(\"Loss\")\n",
    "plt.legend()\n",
    "plt.show()"
   ]
  },
  {
   "cell_type": "code",
   "execution_count": 64,
   "id": "03ff25be-8e8b-45b3-958b-066741163506",
   "metadata": {},
   "outputs": [
    {
     "data": {
      "image/png": "[encoded data removed]",
      "text/plain": [
       "<Figure size 640x480 with 1 Axes>"
      ]
     },
     "metadata": {},
     "output_type": "display_data"
    }
   ],
   "source": [
    "plt.clf()  ## clears the entire current figure with all its axes\n",
    "acc = history_dict[\"accuracy\"]\n",
    "val_acc = history_dict[\"val_accuracy\"]\n",
    "plt.plot(epochs, acc, \"bo\", label=\"Training acc\")\n",
    "plt.plot(epochs, val_acc, \"b\", label=\"Validation acc\")\n",
    "plt.title(\"Training and validation accuracy\")\n",
    "plt.xlabel(\"Epochs\")\n",
    "plt.ylabel(\"Accuracy\")\n",
    "plt.legend()\n",
    "plt.show()"
   ]
  },
  {
   "cell_type": "code",
   "execution_count": 65,
   "id": "4a2d0f1d-21ac-4774-9da0-cde4228fc327",
   "metadata": {
    "scrolled": true
   },
   "outputs": [
    {
     "name": "stdout",
     "output_type": "stream",
     "text": [
      "Epoch 1/4\n",
      "49/49 [==============================] - 2s 8ms/step - loss: 0.4429 - accuracy: 0.8198\n",
      "Epoch 2/4\n",
      "49/49 [==============================] - 0s 8ms/step - loss: 0.2538 - accuracy: 0.9097\n",
      "Epoch 3/4\n",
      "49/49 [==============================] - 0s 8ms/step - loss: 0.1959 - accuracy: 0.9290\n",
      "Epoch 4/4\n",
      "49/49 [==============================] - 0s 7ms/step - loss: 0.1638 - accuracy: 0.9406\n",
      "782/782 [==============================] - 5s 6ms/step - loss: 0.3320 - accuracy: 0.8710\n"
     ]
    }
   ],
   "source": [
    "model = keras.Sequential([\n",
    "    layers.Dense(16, activation=\"relu\"),\n",
    "    layers.Dense(16, activation=\"relu\"),\n",
    "    layers.Dense(1, activation=\"sigmoid\")\n",
    "])\n",
    "model.compile(optimizer=\"rmsprop\",\n",
    "              loss=\"binary_crossentropy\",\n",
    "              metrics=[\"accuracy\"])\n",
    "model.fit(x_train, y_train, epochs=4, batch_size=512)\n",
    "results = model.evaluate(x_test, y_test)"
   ]
  },
  {
   "cell_type": "code",
   "execution_count": 66,
   "id": "6758eb5d-a6ae-44ae-a781-355b12287051",
   "metadata": {
    "scrolled": true
   },
   "outputs": [
    {
     "data": {
      "text/plain": [
       "[0.3319702446460724, 0.870959997177124]"
      ]
     },
     "execution_count": 66,
     "metadata": {},
     "output_type": "execute_result"
    }
   ],
   "source": [
    "results"
   ]
  },
  {
   "cell_type": "markdown",
   "id": "e65ae5bb-6e44-4d5b-a708-d4032a9c7479",
   "metadata": {},
   "source": [
    "### Using a trained model to generate predictions on new data"
   ]
  },
  {
   "cell_type": "code",
   "execution_count": 67,
   "id": "957738d4-f485-4e5d-b6ab-a4b84c634069",
   "metadata": {},
   "outputs": [
    {
     "name": "stdout",
     "output_type": "stream",
     "text": [
      "1/1 [==============================] - 0s 108ms/step\n"
     ]
    },
    {
     "data": {
      "text/plain": [
       "array([[0.12803313],\n",
       "       [0.9994582 ],\n",
       "       [0.33285326],\n",
       "       [0.77357   ],\n",
       "       [0.890155  ],\n",
       "       [0.6623222 ],\n",
       "       [0.99888366],\n",
       "       [0.0037173 ],\n",
       "       [0.9286195 ],\n",
       "       [0.97146964]], dtype=float32)"
      ]
     },
     "execution_count": 67,
     "metadata": {},
     "output_type": "execute_result"
    }
   ],
   "source": [
    "model.predict(x_test[0:10])"
   ]
  },
  {
   "cell_type": "markdown",
   "id": "2cbd3f6a-c9cc-49f0-94c1-ea907bbfbf3f",
   "metadata": {},
   "source": [
    "## Classifying newswires: A multiclass classification example"
   ]
  },
  {
   "cell_type": "markdown",
   "id": "2b7472bc-f767-463d-9c28-32ae0d4c76c2",
   "metadata": {},
   "source": [
    "## The Reuters dataset"
   ]
  },
  {
   "cell_type": "markdown",
   "id": "f6080947-2da6-4616-b6b4-57975e6afc54",
   "metadata": {},
   "source": [
    "**Loading the Reuters dataset**"
   ]
  },
  {
   "cell_type": "code",
   "execution_count": 35,
   "id": "861a4f73-5a3b-4ec3-a1c0-0b9382885cea",
   "metadata": {},
   "outputs": [
    {
     "name": "stdout",
     "output_type": "stream",
     "text": [
      "Downloading data from https://storage.googleapis.com/tensorflow/tf-keras-datasets/reuters.npz\n",
      "\u001b[1m2110848/2110848\u001b[0m \u001b[32m━━━━━━━━━━━━━━━━━━━━\u001b[0m\u001b[37m\u001b[0m \u001b[1m0s\u001b[0m 0us/step\n"
     ]
    }
   ],
   "source": [
    "from keras.datasets import reuters\n",
    "(train_data, train_labels), (test_data, test_labels) = reuters.load_data(\n",
    "    num_words=10000)"
   ]
  },
  {
   "cell_type": "code",
   "execution_count": null,
   "id": "e1e58b21",
   "metadata": {},
   "outputs": [],
   "source": []
  },
  {
   "cell_type": "code",
   "execution_count": 36,
   "id": "91933085-1906-498e-9f41-38c6e48f7b36",
   "metadata": {},
   "outputs": [
    {
     "data": {
      "text/plain": [
       "8982"
      ]
     },
     "execution_count": 36,
     "metadata": {},
     "output_type": "execute_result"
    }
   ],
   "source": [
    "len(train_data)"
   ]
  },
  {
   "cell_type": "code",
   "execution_count": 37,
   "id": "cb0e445e-196f-4546-85bb-4048aba97fa4",
   "metadata": {},
   "outputs": [
    {
     "data": {
      "text/plain": [
       "2246"
      ]
     },
     "execution_count": 37,
     "metadata": {},
     "output_type": "execute_result"
    }
   ],
   "source": [
    "len(test_data)"
   ]
  },
  {
   "cell_type": "code",
   "execution_count": 38,
   "id": "95285af6-cb9b-4812-aef4-b46497dbc31e",
   "metadata": {},
   "outputs": [
    {
     "name": "stdout",
     "output_type": "stream",
     "text": [
      "Downloading data from https://storage.googleapis.com/tensorflow/tf-keras-datasets/reuters_word_index.json\n",
      "\u001b[1m550378/550378\u001b[0m \u001b[32m━━━━━━━━━━━━━━━━━━━━\u001b[0m\u001b[37m\u001b[0m \u001b[1m0s\u001b[0m 0us/step\n"
     ]
    }
   ],
   "source": [
    "word_index = reuters.get_word_index()\n",
    "reverse_word_index = dict([(value, key) for (key, value) in word_index.items()])\n",
    "decoded_newswire = \" \".join([reverse_word_index.get(i - 3, \"?\") for i in\n",
    "    train_data[0]])"
   ]
  },
  {
   "cell_type": "code",
   "execution_count": 72,
   "id": "a787a6e1-36d3-411f-bdc7-c3e1495b0859",
   "metadata": {},
   "outputs": [
    {
     "data": {
      "text/plain": [
       "'? ? ? said as a result of its december acquisition of space co it expects earnings per share in 1987 of 1 15 to 1 30 dlrs per share up from 70 cts in 1986 the company said pretax net should rise to nine to 10 mln dlrs from six mln dlrs in 1986 and rental operation revenues to 19 to 22 mln dlrs from 12 5 mln dlrs it said cash flow per share this year should be 2 50 to three dlrs reuter 3'"
      ]
     },
     "execution_count": 72,
     "metadata": {},
     "output_type": "execute_result"
    }
   ],
   "source": [
    "decoded_newswire"
   ]
  },
  {
   "cell_type": "markdown",
   "id": "3338556a-6d0c-4519-8be7-5197ab6f0678",
   "metadata": {},
   "source": [
    "**For a list of topics, refer to https://github.com/SteffenBauer/KerasTools/tree/master/Reuters_Analysis**"
   ]
  },
  {
   "cell_type": "code",
   "execution_count": 73,
   "id": "b4124c7f-3090-472e-9fdc-37328d6d13fe",
   "metadata": {},
   "outputs": [
    {
     "data": {
      "text/plain": [
       "array([ 3,  4,  3,  4,  4,  4,  4,  3,  3, 16], dtype=int64)"
      ]
     },
     "execution_count": 73,
     "metadata": {},
     "output_type": "execute_result"
    }
   ],
   "source": [
    "train_labels[0:10]"
   ]
  },
  {
   "cell_type": "markdown",
   "id": "21aedcdb-1bce-4ce5-92ff-acd832f05237",
   "metadata": {},
   "source": [
    "### Preparing the data"
   ]
  },
  {
   "cell_type": "markdown",
   "id": "08f264fd-fb56-478e-b1c6-aa652958193a",
   "metadata": {},
   "source": [
    "**Encoding the input data**"
   ]
  },
  {
   "cell_type": "code",
   "execution_count": 75,
   "id": "c1c10b58-8f76-4035-b2ec-fb0b44b5df30",
   "metadata": {},
   "outputs": [],
   "source": [
    "x_train = vectorize_sequences(train_data)\n",
    "x_test = vectorize_sequences(test_data)"
   ]
  },
  {
   "cell_type": "code",
   "execution_count": 79,
   "id": "0d8a4611-01d9-45a3-9370-5222495698c1",
   "metadata": {},
   "outputs": [
    {
     "data": {
      "text/plain": [
       "(8982, 10000)"
      ]
     },
     "execution_count": 79,
     "metadata": {},
     "output_type": "execute_result"
    }
   ],
   "source": [
    "x_train.shape"
   ]
  },
  {
   "cell_type": "code",
   "execution_count": 80,
   "id": "63066f06-281e-457b-9418-1e855ebee24e",
   "metadata": {},
   "outputs": [
    {
     "data": {
      "text/plain": [
       "(2246, 10000)"
      ]
     },
     "execution_count": 80,
     "metadata": {},
     "output_type": "execute_result"
    }
   ],
   "source": [
    "x_test.shape"
   ]
  },
  {
   "cell_type": "markdown",
   "id": "0375a32a-a8ff-4a4b-acf7-be71a0b86dac",
   "metadata": {},
   "source": [
    "**Encoding the labels**"
   ]
  },
  {
   "cell_type": "code",
   "execution_count": 81,
   "id": "d9423f3a-f773-4939-bf50-5d23380a3619",
   "metadata": {},
   "outputs": [],
   "source": [
    "def to_one_hot(labels, dimension=46):\n",
    "    results = np.zeros((len(labels), dimension))\n",
    "    for i, label in enumerate(labels):\n",
    "        results[i, label] = 1.\n",
    "    return results\n",
    "y_train = to_one_hot(train_labels)\n",
    "y_test = to_one_hot(test_labels)"
   ]
  },
  {
   "cell_type": "code",
   "execution_count": 82,
   "id": "1c6ded29-f130-46b6-9410-8d459fd703f6",
   "metadata": {},
   "outputs": [
    {
     "data": {
      "text/plain": [
       "3"
      ]
     },
     "execution_count": 82,
     "metadata": {},
     "output_type": "execute_result"
    }
   ],
   "source": [
    "train_labels[0]"
   ]
  },
  {
   "cell_type": "code",
   "execution_count": 83,
   "id": "36d7e2f3-d9d4-4414-b970-cb07b7f2608b",
   "metadata": {},
   "outputs": [
    {
     "data": {
      "text/plain": [
       "3"
      ]
     },
     "execution_count": 83,
     "metadata": {},
     "output_type": "execute_result"
    }
   ],
   "source": [
    "train_labels[2]"
   ]
  },
  {
   "cell_type": "code",
   "execution_count": 84,
   "id": "4801e8ef-10e4-4778-9e62-4611c689b941",
   "metadata": {},
   "outputs": [
    {
     "data": {
      "text/plain": [
       "array([[0., 0., 0., 1., 0., 0., 0., 0., 0., 0., 0., 0., 0., 0., 0., 0.,\n",
       "        0., 0., 0., 0., 0., 0., 0., 0., 0., 0., 0., 0., 0., 0., 0., 0.,\n",
       "        0., 0., 0., 0., 0., 0., 0., 0., 0., 0., 0., 0., 0., 0.],\n",
       "       [0., 0., 0., 0., 1., 0., 0., 0., 0., 0., 0., 0., 0., 0., 0., 0.,\n",
       "        0., 0., 0., 0., 0., 0., 0., 0., 0., 0., 0., 0., 0., 0., 0., 0.,\n",
       "        0., 0., 0., 0., 0., 0., 0., 0., 0., 0., 0., 0., 0., 0.],\n",
       "       [0., 0., 0., 1., 0., 0., 0., 0., 0., 0., 0., 0., 0., 0., 0., 0.,\n",
       "        0., 0., 0., 0., 0., 0., 0., 0., 0., 0., 0., 0., 0., 0., 0., 0.,\n",
       "        0., 0., 0., 0., 0., 0., 0., 0., 0., 0., 0., 0., 0., 0.],\n",
       "       [0., 0., 0., 0., 1., 0., 0., 0., 0., 0., 0., 0., 0., 0., 0., 0.,\n",
       "        0., 0., 0., 0., 0., 0., 0., 0., 0., 0., 0., 0., 0., 0., 0., 0.,\n",
       "        0., 0., 0., 0., 0., 0., 0., 0., 0., 0., 0., 0., 0., 0.],\n",
       "       [0., 0., 0., 0., 1., 0., 0., 0., 0., 0., 0., 0., 0., 0., 0., 0.,\n",
       "        0., 0., 0., 0., 0., 0., 0., 0., 0., 0., 0., 0., 0., 0., 0., 0.,\n",
       "        0., 0., 0., 0., 0., 0., 0., 0., 0., 0., 0., 0., 0., 0.],\n",
       "       [0., 0., 0., 0., 1., 0., 0., 0., 0., 0., 0., 0., 0., 0., 0., 0.,\n",
       "        0., 0., 0., 0., 0., 0., 0., 0., 0., 0., 0., 0., 0., 0., 0., 0.,\n",
       "        0., 0., 0., 0., 0., 0., 0., 0., 0., 0., 0., 0., 0., 0.],\n",
       "       [0., 0., 0., 0., 1., 0., 0., 0., 0., 0., 0., 0., 0., 0., 0., 0.,\n",
       "        0., 0., 0., 0., 0., 0., 0., 0., 0., 0., 0., 0., 0., 0., 0., 0.,\n",
       "        0., 0., 0., 0., 0., 0., 0., 0., 0., 0., 0., 0., 0., 0.],\n",
       "       [0., 0., 0., 1., 0., 0., 0., 0., 0., 0., 0., 0., 0., 0., 0., 0.,\n",
       "        0., 0., 0., 0., 0., 0., 0., 0., 0., 0., 0., 0., 0., 0., 0., 0.,\n",
       "        0., 0., 0., 0., 0., 0., 0., 0., 0., 0., 0., 0., 0., 0.],\n",
       "       [0., 0., 0., 1., 0., 0., 0., 0., 0., 0., 0., 0., 0., 0., 0., 0.,\n",
       "        0., 0., 0., 0., 0., 0., 0., 0., 0., 0., 0., 0., 0., 0., 0., 0.,\n",
       "        0., 0., 0., 0., 0., 0., 0., 0., 0., 0., 0., 0., 0., 0.],\n",
       "       [0., 0., 0., 0., 0., 0., 0., 0., 0., 0., 0., 0., 0., 0., 0., 0.,\n",
       "        1., 0., 0., 0., 0., 0., 0., 0., 0., 0., 0., 0., 0., 0., 0., 0.,\n",
       "        0., 0., 0., 0., 0., 0., 0., 0., 0., 0., 0., 0., 0., 0.]])"
      ]
     },
     "execution_count": 84,
     "metadata": {},
     "output_type": "execute_result"
    }
   ],
   "source": [
    "y_train[0:10]"
   ]
  },
  {
   "cell_type": "code",
   "execution_count": 85,
   "id": "eeef2728-dce8-4dd4-a2c9-e0ea3b7e0868",
   "metadata": {},
   "outputs": [
    {
     "data": {
      "text/plain": [
       "(8982, 46)"
      ]
     },
     "execution_count": 85,
     "metadata": {},
     "output_type": "execute_result"
    }
   ],
   "source": [
    "y_train.shape"
   ]
  },
  {
   "cell_type": "code",
   "execution_count": 86,
   "id": "2c4dc9c1-2e6a-4d7f-891a-6b06ed60a548",
   "metadata": {},
   "outputs": [],
   "source": [
    "## A build-in in Keras\n",
    "from tensorflow.keras.utils import to_categorical\n",
    "y_train = to_categorical(train_labels)\n",
    "y_test = to_categorical(test_labels)"
   ]
  },
  {
   "cell_type": "code",
   "execution_count": 87,
   "id": "fcd3858c-90e1-45e2-8e88-194d481ccad0",
   "metadata": {},
   "outputs": [
    {
     "data": {
      "text/plain": [
       "(8982, 46)"
      ]
     },
     "execution_count": 87,
     "metadata": {},
     "output_type": "execute_result"
    }
   ],
   "source": [
    "y_train.shape"
   ]
  },
  {
   "cell_type": "markdown",
   "id": "48cd474f-8b6a-4163-ab9f-707595e84516",
   "metadata": {},
   "source": [
    "### Building your model"
   ]
  },
  {
   "cell_type": "code",
   "execution_count": 88,
   "id": "26078ac6-10e7-4ab6-8cd3-11d7a0cc936d",
   "metadata": {},
   "outputs": [],
   "source": [
    "model = keras.Sequential([\n",
    "    layers.Dense(64, activation=\"relu\"),\n",
    "    layers.Dense(64, activation=\"relu\"),\n",
    "    layers.Dense(46, activation=\"softmax\")\n",
    "])"
   ]
  },
  {
   "cell_type": "code",
   "execution_count": 89,
   "id": "2e646ca3-e359-4fc1-890d-ac376af935b6",
   "metadata": {},
   "outputs": [],
   "source": [
    "model.compile(optimizer=\"rmsprop\",\n",
    "              loss=\"categorical_crossentropy\",\n",
    "              metrics=[\"accuracy\"])"
   ]
  },
  {
   "cell_type": "markdown",
   "id": "c4d2e00b-43b7-4ba2-88e4-0a8a9db4c898",
   "metadata": {},
   "source": [
    "### Validating your approach"
   ]
  },
  {
   "cell_type": "code",
   "execution_count": 90,
   "id": "9780ae1a-cb25-42af-b92d-f509d042c647",
   "metadata": {},
   "outputs": [],
   "source": [
    "x_val = x_train[:1000]\n",
    "partial_x_train = x_train[1000:]\n",
    "y_val = y_train[:1000]\n",
    "partial_y_train = y_train[1000:]"
   ]
  },
  {
   "cell_type": "code",
   "execution_count": 91,
   "id": "dc12d61c-6e4e-4882-a434-b01b2b158a3a",
   "metadata": {},
   "outputs": [
    {
     "name": "stdout",
     "output_type": "stream",
     "text": [
      "Epoch 1/20\n",
      "16/16 [==============================] - 2s 74ms/step - loss: 2.7487 - accuracy: 0.5193 - val_loss: 1.8138 - val_accuracy: 0.6360\n",
      "Epoch 2/20\n",
      "16/16 [==============================] - 0s 19ms/step - loss: 1.4904 - accuracy: 0.6897 - val_loss: 1.3802 - val_accuracy: 0.7020\n",
      "Epoch 3/20\n",
      "16/16 [==============================] - 0s 18ms/step - loss: 1.1084 - accuracy: 0.7583 - val_loss: 1.2063 - val_accuracy: 0.7350\n",
      "Epoch 4/20\n",
      "16/16 [==============================] - 0s 18ms/step - loss: 0.8796 - accuracy: 0.8141 - val_loss: 1.0563 - val_accuracy: 0.7870\n",
      "Epoch 5/20\n",
      "16/16 [==============================] - 0s 18ms/step - loss: 0.7033 - accuracy: 0.8542 - val_loss: 0.9783 - val_accuracy: 0.8010\n",
      "Epoch 6/20\n",
      "16/16 [==============================] - 0s 18ms/step - loss: 0.5650 - accuracy: 0.8860 - val_loss: 0.9502 - val_accuracy: 0.8030\n",
      "Epoch 7/20\n",
      "16/16 [==============================] - 0s 19ms/step - loss: 0.4596 - accuracy: 0.9028 - val_loss: 0.9404 - val_accuracy: 0.7970\n",
      "Epoch 8/20\n",
      "16/16 [==============================] - 0s 18ms/step - loss: 0.3736 - accuracy: 0.9207 - val_loss: 0.9271 - val_accuracy: 0.8090\n",
      "Epoch 9/20\n",
      "16/16 [==============================] - 0s 19ms/step - loss: 0.3104 - accuracy: 0.9327 - val_loss: 0.8820 - val_accuracy: 0.8250\n",
      "Epoch 10/20\n",
      "16/16 [==============================] - 0s 18ms/step - loss: 0.2614 - accuracy: 0.9404 - val_loss: 0.9542 - val_accuracy: 0.8050\n",
      "Epoch 11/20\n",
      "16/16 [==============================] - 0s 18ms/step - loss: 0.2262 - accuracy: 0.9463 - val_loss: 0.9142 - val_accuracy: 0.8180\n",
      "Epoch 12/20\n",
      "16/16 [==============================] - 0s 18ms/step - loss: 0.1954 - accuracy: 0.9511 - val_loss: 0.9266 - val_accuracy: 0.8120\n",
      "Epoch 13/20\n",
      "16/16 [==============================] - 0s 17ms/step - loss: 0.1747 - accuracy: 0.9526 - val_loss: 0.9338 - val_accuracy: 0.8130\n",
      "Epoch 14/20\n",
      "16/16 [==============================] - 0s 18ms/step - loss: 0.1575 - accuracy: 0.9549 - val_loss: 0.9522 - val_accuracy: 0.8110\n",
      "Epoch 15/20\n",
      "16/16 [==============================] - 0s 18ms/step - loss: 0.1473 - accuracy: 0.9562 - val_loss: 0.9524 - val_accuracy: 0.8160\n",
      "Epoch 16/20\n",
      "16/16 [==============================] - 0s 19ms/step - loss: 0.1353 - accuracy: 0.9569 - val_loss: 0.9797 - val_accuracy: 0.8140\n",
      "Epoch 17/20\n",
      "16/16 [==============================] - 0s 18ms/step - loss: 0.1295 - accuracy: 0.9594 - val_loss: 1.0104 - val_accuracy: 0.8220\n",
      "Epoch 18/20\n",
      "16/16 [==============================] - 0s 17ms/step - loss: 0.1303 - accuracy: 0.9575 - val_loss: 1.0163 - val_accuracy: 0.8070\n",
      "Epoch 19/20\n",
      "16/16 [==============================] - 0s 18ms/step - loss: 0.1153 - accuracy: 0.9589 - val_loss: 1.0298 - val_accuracy: 0.8030\n",
      "Epoch 20/20\n",
      "16/16 [==============================] - 0s 18ms/step - loss: 0.1105 - accuracy: 0.9593 - val_loss: 1.0817 - val_accuracy: 0.8020\n"
     ]
    }
   ],
   "source": [
    "history = model.fit(partial_x_train,\n",
    "                    partial_y_train,\n",
    "                    epochs=20,\n",
    "                    batch_size=512,\n",
    "                    validation_data=(x_val, y_val))"
   ]
  },
  {
   "cell_type": "code",
   "execution_count": 92,
   "id": "77e004af-0cfa-4060-8851-950b0ad26192",
   "metadata": {},
   "outputs": [
    {
     "data": {
      "image/png": "[encoded data removed]",
      "text/plain": [
       "<Figure size 640x480 with 1 Axes>"
      ]
     },
     "metadata": {},
     "output_type": "display_data"
    }
   ],
   "source": [
    "loss = history.history[\"loss\"]\n",
    "val_loss = history.history[\"val_loss\"]\n",
    "epochs = range(1, len(loss) + 1)\n",
    "plt.plot(epochs, loss, \"bo\", label=\"Training loss\")\n",
    "plt.plot(epochs, val_loss, \"b\", label=\"Validation loss\")\n",
    "plt.title(\"Training and validation loss\")\n",
    "plt.xlabel(\"Epochs\")\n",
    "plt.ylabel(\"Loss\")\n",
    "plt.legend()\n",
    "plt.show()"
   ]
  },
  {
   "cell_type": "code",
   "execution_count": 93,
   "id": "8d610535-9424-4966-a532-2c456c238eef",
   "metadata": {},
   "outputs": [
    {
     "data": {
      "image/png": "[encoded data removed]",
      "text/plain": [
       "<Figure size 640x480 with 1 Axes>"
      ]
     },
     "metadata": {},
     "output_type": "display_data"
    }
   ],
   "source": [
    "plt.clf()\n",
    "acc = history.history[\"accuracy\"]\n",
    "val_acc = history.history[\"val_accuracy\"]\n",
    "plt.plot(epochs, acc, \"bo\", label=\"Training accuracy\")\n",
    "plt.plot(epochs, val_acc, \"b\", label=\"Validation accuracy\")\n",
    "plt.title(\"Training and validation accuracy\")\n",
    "plt.xlabel(\"Epochs\")\n",
    "plt.ylabel(\"Accuracy\")\n",
    "plt.legend()\n",
    "plt.show()"
   ]
  },
  {
   "cell_type": "markdown",
   "id": "e1a9364d-a124-4be4-8751-3640466ef294",
   "metadata": {},
   "source": [
    "**Retraining a model from scratch**"
   ]
  },
  {
   "cell_type": "code",
   "execution_count": 94,
   "id": "06ed4650-b114-43da-bf99-8f495f0525a3",
   "metadata": {},
   "outputs": [
    {
     "name": "stdout",
     "output_type": "stream",
     "text": [
      "Epoch 1/9\n",
      "18/18 [==============================] - 1s 15ms/step - loss: 2.5783 - accuracy: 0.5553\n",
      "Epoch 2/9\n",
      "18/18 [==============================] - 0s 15ms/step - loss: 1.3931 - accuracy: 0.7073\n",
      "Epoch 3/9\n",
      "18/18 [==============================] - 0s 16ms/step - loss: 1.0368 - accuracy: 0.7738\n",
      "Epoch 4/9\n",
      "18/18 [==============================] - 0s 14ms/step - loss: 0.8120 - accuracy: 0.8246\n",
      "Epoch 5/9\n",
      "18/18 [==============================] - 0s 14ms/step - loss: 0.6461 - accuracy: 0.8621\n",
      "Epoch 6/9\n",
      "18/18 [==============================] - 0s 15ms/step - loss: 0.5089 - accuracy: 0.8946\n",
      "Epoch 7/9\n",
      "18/18 [==============================] - 0s 15ms/step - loss: 0.4041 - accuracy: 0.9137\n",
      "Epoch 8/9\n",
      "18/18 [==============================] - 0s 15ms/step - loss: 0.3270 - accuracy: 0.9303\n",
      "Epoch 9/9\n",
      "18/18 [==============================] - 0s 15ms/step - loss: 0.2733 - accuracy: 0.9387\n",
      "71/71 [==============================] - 1s 6ms/step - loss: 0.9475 - accuracy: 0.7930\n"
     ]
    }
   ],
   "source": [
    "model = keras.Sequential([\n",
    "  layers.Dense(64, activation=\"relu\"),\n",
    "  layers.Dense(64, activation=\"relu\"),\n",
    "  layers.Dense(46, activation=\"softmax\")\n",
    "])\n",
    "model.compile(optimizer=\"rmsprop\",\n",
    "              loss=\"categorical_crossentropy\",\n",
    "              metrics=[\"accuracy\"])\n",
    "model.fit(x_train,\n",
    "          y_train,\n",
    "          epochs=9,\n",
    "          batch_size=512)\n",
    "results = model.evaluate(x_test, y_test)"
   ]
  },
  {
   "cell_type": "code",
   "execution_count": 90,
   "id": "596c856c-87d1-4ba3-8617-78112cd66102",
   "metadata": {},
   "outputs": [
    {
     "data": {
      "text/plain": [
       "[0.9408175349235535, 0.7983080744743347]"
      ]
     },
     "execution_count": 90,
     "metadata": {},
     "output_type": "execute_result"
    }
   ],
   "source": [
    "results"
   ]
  },
  {
   "cell_type": "code",
   "execution_count": 95,
   "id": "c3dee73a-0390-4aee-b70a-b9580fe78baa",
   "metadata": {},
   "outputs": [
    {
     "name": "stdout",
     "output_type": "stream",
     "text": [
      "71/71 [==============================] - 0s 6ms/step - loss: 0.9475 - accuracy: 0.7930\n"
     ]
    },
    {
     "data": {
      "text/plain": [
       "[0.9474853873252869, 0.792965292930603]"
      ]
     },
     "execution_count": 95,
     "metadata": {},
     "output_type": "execute_result"
    }
   ],
   "source": [
    "model.evaluate(x_test, y_test)"
   ]
  },
  {
   "cell_type": "markdown",
   "id": "3fc7cd4e-53b9-4dee-a9cf-931926f95de8",
   "metadata": {},
   "source": [
    "**The accuracy means good or bad?** \\\n",
    "**Try a random guess**"
   ]
  },
  {
   "cell_type": "code",
   "execution_count": 88,
   "id": "a4c5133c-9619-4405-8aa9-31c8164ed890",
   "metadata": {},
   "outputs": [],
   "source": [
    "import copy\n",
    "test_labels_copy = copy.copy(test_labels)\n",
    "np.random.shuffle(test_labels_copy)\n",
    "hits_array = np.array(test_labels) == np.array(test_labels_copy)"
   ]
  },
  {
   "cell_type": "code",
   "execution_count": 89,
   "id": "97e1b13c-c78b-4be7-82c7-b02ab07452bb",
   "metadata": {},
   "outputs": [
    {
     "data": {
      "text/plain": [
       "array([False, False, False, ..., False,  True, False])"
      ]
     },
     "execution_count": 89,
     "metadata": {},
     "output_type": "execute_result"
    }
   ],
   "source": [
    "hits_array"
   ]
  },
  {
   "cell_type": "code",
   "execution_count": 90,
   "id": "c3de0470-fe60-41a6-9970-030d05d54960",
   "metadata": {},
   "outputs": [
    {
     "data": {
      "text/plain": [
       "0.18210151380231523"
      ]
     },
     "execution_count": 90,
     "metadata": {},
     "output_type": "execute_result"
    }
   ],
   "source": [
    "hits_array.mean()"
   ]
  },
  {
   "cell_type": "code",
   "execution_count": 91,
   "id": "28a97ee4-b424-438c-87b5-80d28cead03a",
   "metadata": {},
   "outputs": [
    {
     "name": "stdout",
     "output_type": "stream",
     "text": [
      "71/71 [==============================] - 1s 6ms/step\n"
     ]
    }
   ],
   "source": [
    "predictions = model.predict(x_test)"
   ]
  },
  {
   "cell_type": "code",
   "execution_count": 92,
   "id": "f23639db-7997-4986-a1ae-76234e11dfb0",
   "metadata": {},
   "outputs": [
    {
     "data": {
      "text/plain": [
       "(46,)"
      ]
     },
     "execution_count": 92,
     "metadata": {},
     "output_type": "execute_result"
    }
   ],
   "source": [
    "predictions[0].shape"
   ]
  },
  {
   "cell_type": "code",
   "execution_count": 93,
   "id": "d52d7be7-0df0-4fc6-84d2-57b5acb1381a",
   "metadata": {},
   "outputs": [
    {
     "data": {
      "text/plain": [
       "array([3.07390059e-04, 1.12664937e-04, 7.82665120e-06, 4.64849740e-01,\n",
       "       5.16624093e-01, 2.02807714e-04, 5.33109851e-05, 1.05064944e-04,\n",
       "       1.53054961e-03, 7.93531872e-05, 9.21637402e-05, 3.74462223e-04,\n",
       "       1.66373211e-04, 3.81184916e-04, 4.13290196e-04, 1.48490391e-04,\n",
       "       1.76018826e-03, 7.51828018e-04, 1.17057505e-04, 4.70370927e-04,\n",
       "       2.70537823e-03, 5.50450291e-03, 6.45348482e-05, 2.34296152e-04,\n",
       "       3.49555958e-05, 6.12369840e-05, 2.88858769e-06, 3.43754800e-05,\n",
       "       4.31031513e-05, 2.48562690e-04, 7.24590092e-04, 3.95328389e-04,\n",
       "       3.88893459e-05, 6.48449131e-05, 7.92055944e-05, 3.12655211e-05,\n",
       "       5.81180175e-05, 1.04819454e-04, 3.73391485e-05, 4.67016536e-04,\n",
       "       5.90839882e-05, 2.61170935e-04, 2.90342014e-05, 9.88122119e-05,\n",
       "       1.86616089e-05, 4.96805951e-05], dtype=float32)"
      ]
     },
     "execution_count": 93,
     "metadata": {},
     "output_type": "execute_result"
    }
   ],
   "source": [
    "predictions[0]"
   ]
  },
  {
   "cell_type": "code",
   "execution_count": 94,
   "id": "fe14a5ff-1e02-4bfc-b3f1-7381cd0c4cf4",
   "metadata": {},
   "outputs": [
    {
     "data": {
      "text/plain": [
       "0.99999994"
      ]
     },
     "execution_count": 94,
     "metadata": {},
     "output_type": "execute_result"
    }
   ],
   "source": [
    "np.sum(predictions[0])"
   ]
  },
  {
   "cell_type": "code",
   "execution_count": 95,
   "id": "6ef30aea-946d-4640-914a-aa2a89d50eef",
   "metadata": {},
   "outputs": [
    {
     "data": {
      "text/plain": [
       "4"
      ]
     },
     "execution_count": 95,
     "metadata": {},
     "output_type": "execute_result"
    }
   ],
   "source": [
    "np.argmax(predictions[0])"
   ]
  },
  {
   "cell_type": "markdown",
   "id": "883294af-6490-414a-aa6d-874a840bd136",
   "metadata": {},
   "source": [
    "### A different way to handle the labels and the loss (as in the MNIST data)"
   ]
  },
  {
   "cell_type": "code",
   "execution_count": 96,
   "id": "3ad561d6-311e-46dd-bb34-27987832c4aa",
   "metadata": {},
   "outputs": [],
   "source": [
    "y_train = train_labels\n",
    "y_test = test_labels"
   ]
  },
  {
   "cell_type": "code",
   "execution_count": 97,
   "id": "881a61a6-73e7-4c13-9be4-c9110d8d2bed",
   "metadata": {},
   "outputs": [
    {
     "data": {
      "text/plain": [
       "(8982,)"
      ]
     },
     "execution_count": 97,
     "metadata": {},
     "output_type": "execute_result"
    }
   ],
   "source": [
    "y_train.shape"
   ]
  },
  {
   "cell_type": "code",
   "execution_count": 98,
   "id": "b1497b3d-2ef3-4187-a862-dbb2c2de8744",
   "metadata": {},
   "outputs": [
    {
     "data": {
      "text/plain": [
       "3"
      ]
     },
     "execution_count": 98,
     "metadata": {},
     "output_type": "execute_result"
    }
   ],
   "source": [
    "y_train[0]"
   ]
  },
  {
   "cell_type": "code",
   "execution_count": 99,
   "id": "13dfbc1a-f71f-4bd0-891e-5f1f53376c67",
   "metadata": {},
   "outputs": [],
   "source": [
    "model = keras.Sequential([\n",
    "    layers.Dense(64, activation=\"relu\"),\n",
    "    layers.Dense(64, activation=\"relu\"),\n",
    "    layers.Dense(46, activation=\"softmax\")\n",
    "])"
   ]
  },
  {
   "cell_type": "code",
   "execution_count": 100,
   "id": "0ac40a1a-a9d9-44d8-823b-38a6e338cc74",
   "metadata": {},
   "outputs": [],
   "source": [
    "model.compile(optimizer=\"rmsprop\",\n",
    "              loss=\"sparse_categorical_crossentropy\",\n",
    "              metrics=[\"accuracy\"])"
   ]
  },
  {
   "cell_type": "code",
   "execution_count": 101,
   "id": "94fd27c9-0730-424f-bb0a-cdc732e4b8dc",
   "metadata": {},
   "outputs": [],
   "source": [
    "x_val = x_train[:1000]\n",
    "partial_x_train = x_train[1000:]\n",
    "y_val = y_train[:1000]\n",
    "partial_y_train = y_train[1000:]\n"
   ]
  },
  {
   "cell_type": "code",
   "execution_count": 102,
   "id": "13d62c90-c860-449b-b296-5934f305eb8a",
   "metadata": {},
   "outputs": [
    {
     "name": "stdout",
     "output_type": "stream",
     "text": [
      "Epoch 1/20\n",
      "16/16 [==============================] - 2s 39ms/step - loss: 2.8469 - accuracy: 0.4882 - val_loss: 1.8800 - val_accuracy: 0.6280\n",
      "Epoch 2/20\n",
      "16/16 [==============================] - 0s 18ms/step - loss: 1.4980 - accuracy: 0.6972 - val_loss: 1.3334 - val_accuracy: 0.7110\n",
      "Epoch 3/20\n",
      "16/16 [==============================] - 0s 18ms/step - loss: 1.0667 - accuracy: 0.7808 - val_loss: 1.1541 - val_accuracy: 0.7440\n",
      "Epoch 4/20\n",
      "16/16 [==============================] - 0s 19ms/step - loss: 0.8313 - accuracy: 0.8255 - val_loss: 1.0231 - val_accuracy: 0.7920\n",
      "Epoch 5/20\n",
      "16/16 [==============================] - 0s 19ms/step - loss: 0.6652 - accuracy: 0.8623 - val_loss: 0.9557 - val_accuracy: 0.8030\n",
      "Epoch 6/20\n",
      "16/16 [==============================] - 0s 18ms/step - loss: 0.5286 - accuracy: 0.8934 - val_loss: 0.9128 - val_accuracy: 0.8120\n",
      "Epoch 7/20\n",
      "16/16 [==============================] - 0s 19ms/step - loss: 0.4275 - accuracy: 0.9123 - val_loss: 0.8978 - val_accuracy: 0.8180\n",
      "Epoch 8/20\n",
      "16/16 [==============================] - 0s 18ms/step - loss: 0.3461 - accuracy: 0.9286 - val_loss: 0.8774 - val_accuracy: 0.8210\n",
      "Epoch 9/20\n",
      "16/16 [==============================] - 0s 19ms/step - loss: 0.2868 - accuracy: 0.9377 - val_loss: 0.9294 - val_accuracy: 0.8120\n",
      "Epoch 10/20\n",
      "16/16 [==============================] - 0s 18ms/step - loss: 0.2459 - accuracy: 0.9435 - val_loss: 0.9334 - val_accuracy: 0.8060\n",
      "Epoch 11/20\n",
      "16/16 [==============================] - 0s 18ms/step - loss: 0.2116 - accuracy: 0.9489 - val_loss: 0.9178 - val_accuracy: 0.8180\n",
      "Epoch 12/20\n",
      "16/16 [==============================] - 0s 18ms/step - loss: 0.1838 - accuracy: 0.9496 - val_loss: 0.9444 - val_accuracy: 0.8190\n",
      "Epoch 13/20\n",
      "16/16 [==============================] - 0s 18ms/step - loss: 0.1673 - accuracy: 0.9543 - val_loss: 0.9708 - val_accuracy: 0.8170\n",
      "Epoch 14/20\n",
      "16/16 [==============================] - 0s 19ms/step - loss: 0.1544 - accuracy: 0.9548 - val_loss: 0.9752 - val_accuracy: 0.8070\n",
      "Epoch 15/20\n",
      "16/16 [==============================] - 0s 18ms/step - loss: 0.1399 - accuracy: 0.9545 - val_loss: 1.0221 - val_accuracy: 0.8010\n",
      "Epoch 16/20\n",
      "16/16 [==============================] - 0s 18ms/step - loss: 0.1329 - accuracy: 0.9548 - val_loss: 1.0310 - val_accuracy: 0.8080\n",
      "Epoch 17/20\n",
      "16/16 [==============================] - 0s 18ms/step - loss: 0.1274 - accuracy: 0.9538 - val_loss: 1.0912 - val_accuracy: 0.7930\n",
      "Epoch 18/20\n",
      "16/16 [==============================] - 0s 19ms/step - loss: 0.1231 - accuracy: 0.9584 - val_loss: 1.0923 - val_accuracy: 0.7960\n",
      "Epoch 19/20\n",
      "16/16 [==============================] - 0s 18ms/step - loss: 0.1194 - accuracy: 0.9554 - val_loss: 1.0681 - val_accuracy: 0.8050\n",
      "Epoch 20/20\n",
      "16/16 [==============================] - 0s 17ms/step - loss: 0.1109 - accuracy: 0.9578 - val_loss: 1.0633 - val_accuracy: 0.8030\n"
     ]
    }
   ],
   "source": [
    "history = model.fit(partial_x_train,\n",
    "                    partial_y_train,\n",
    "                    epochs=20,\n",
    "                    batch_size=512,\n",
    "                    validation_data=(x_val, y_val))"
   ]
  },
  {
   "cell_type": "code",
   "execution_count": 103,
   "id": "7d7353b5-e904-4124-b3af-4caf7bc06d3a",
   "metadata": {},
   "outputs": [
    {
     "data": {
      "image/png": "[encoded data removed]",
      "text/plain": [
       "<Figure size 640x480 with 1 Axes>"
      ]
     },
     "metadata": {},
     "output_type": "display_data"
    }
   ],
   "source": [
    "loss = history.history[\"loss\"]\n",
    "val_loss = history.history[\"val_loss\"]\n",
    "epochs = range(1, len(loss) + 1)\n",
    "plt.plot(epochs, loss, \"bo\", label=\"Training loss\")\n",
    "plt.plot(epochs, val_loss, \"b\", label=\"Validation loss\")\n",
    "plt.title(\"Training and validation loss\")\n",
    "plt.xlabel(\"Epochs\")\n",
    "plt.ylabel(\"Loss\")\n",
    "plt.legend()\n",
    "plt.show()"
   ]
  },
  {
   "cell_type": "markdown",
   "id": "22143a5f-bcc2-458a-a9b4-056f266572c4",
   "metadata": {},
   "source": [
    "### The importance of having sufficiently large intermediate layers"
   ]
  },
  {
   "cell_type": "code",
   "execution_count": 104,
   "id": "ac190927-04b0-4b4c-8eb2-1cbc36a90f78",
   "metadata": {},
   "outputs": [
    {
     "name": "stdout",
     "output_type": "stream",
     "text": [
      "Epoch 1/20\n",
      "63/63 [==============================] - 2s 16ms/step - loss: 2.9078 - accuracy: 0.3215 - val_loss: 2.2452 - val_accuracy: 0.4360\n",
      "Epoch 2/20\n",
      "63/63 [==============================] - 1s 11ms/step - loss: 1.8461 - accuracy: 0.5133 - val_loss: 1.6512 - val_accuracy: 0.6240\n",
      "Epoch 3/20\n",
      "63/63 [==============================] - 1s 11ms/step - loss: 1.3982 - accuracy: 0.6706 - val_loss: 1.4254 - val_accuracy: 0.6740\n",
      "Epoch 4/20\n",
      "63/63 [==============================] - 1s 11ms/step - loss: 1.1588 - accuracy: 0.7263 - val_loss: 1.3278 - val_accuracy: 0.7030\n",
      "Epoch 5/20\n",
      "63/63 [==============================] - 1s 11ms/step - loss: 1.0130 - accuracy: 0.7598 - val_loss: 1.3067 - val_accuracy: 0.7070\n",
      "Epoch 6/20\n",
      "63/63 [==============================] - 1s 11ms/step - loss: 0.9070 - accuracy: 0.7801 - val_loss: 1.2798 - val_accuracy: 0.7120\n",
      "Epoch 7/20\n",
      "63/63 [==============================] - 1s 11ms/step - loss: 0.8244 - accuracy: 0.7977 - val_loss: 1.2887 - val_accuracy: 0.7120\n",
      "Epoch 8/20\n",
      "63/63 [==============================] - 1s 11ms/step - loss: 0.7562 - accuracy: 0.8111 - val_loss: 1.2942 - val_accuracy: 0.7150\n",
      "Epoch 9/20\n",
      "63/63 [==============================] - 1s 11ms/step - loss: 0.7009 - accuracy: 0.8206 - val_loss: 1.3188 - val_accuracy: 0.7100\n",
      "Epoch 10/20\n",
      "63/63 [==============================] - 1s 11ms/step - loss: 0.6546 - accuracy: 0.8307 - val_loss: 1.3519 - val_accuracy: 0.7110\n",
      "Epoch 11/20\n",
      "63/63 [==============================] - 1s 11ms/step - loss: 0.6158 - accuracy: 0.8374 - val_loss: 1.4024 - val_accuracy: 0.7120\n",
      "Epoch 12/20\n",
      "63/63 [==============================] - 1s 10ms/step - loss: 0.5806 - accuracy: 0.8448 - val_loss: 1.4421 - val_accuracy: 0.7040\n",
      "Epoch 13/20\n",
      "63/63 [==============================] - 1s 10ms/step - loss: 0.5491 - accuracy: 0.8485 - val_loss: 1.4937 - val_accuracy: 0.7010\n",
      "Epoch 14/20\n",
      "63/63 [==============================] - 1s 11ms/step - loss: 0.5242 - accuracy: 0.8568 - val_loss: 1.5701 - val_accuracy: 0.7060\n",
      "Epoch 15/20\n",
      "63/63 [==============================] - 1s 11ms/step - loss: 0.5035 - accuracy: 0.8629 - val_loss: 1.5999 - val_accuracy: 0.7000\n",
      "Epoch 16/20\n",
      "63/63 [==============================] - 1s 11ms/step - loss: 0.4815 - accuracy: 0.8687 - val_loss: 1.6632 - val_accuracy: 0.7030\n",
      "Epoch 17/20\n",
      "63/63 [==============================] - 1s 11ms/step - loss: 0.4612 - accuracy: 0.8716 - val_loss: 1.7215 - val_accuracy: 0.7030\n",
      "Epoch 18/20\n",
      "63/63 [==============================] - 1s 11ms/step - loss: 0.4473 - accuracy: 0.8770 - val_loss: 1.7607 - val_accuracy: 0.6980\n",
      "Epoch 19/20\n",
      "63/63 [==============================] - 1s 10ms/step - loss: 0.4266 - accuracy: 0.8794 - val_loss: 1.8212 - val_accuracy: 0.7050\n",
      "Epoch 20/20\n",
      "63/63 [==============================] - 1s 11ms/step - loss: 0.4168 - accuracy: 0.8801 - val_loss: 1.9111 - val_accuracy: 0.7010\n"
     ]
    },
    {
     "data": {
      "text/plain": [
       "<keras.callbacks.History at 0x134aed11ed0>"
      ]
     },
     "execution_count": 104,
     "metadata": {},
     "output_type": "execute_result"
    }
   ],
   "source": [
    "model = keras.Sequential([\n",
    "    layers.Dense(64, activation=\"relu\"),\n",
    "    layers.Dense(4, activation=\"relu\"),\n",
    "    layers.Dense(46, activation=\"softmax\")\n",
    "])\n",
    "model.compile(optimizer=\"rmsprop\",\n",
    "              loss=\"sparse_categorical_crossentropy\",\n",
    "              metrics=[\"accuracy\"])\n",
    "model.fit(partial_x_train,\n",
    "          partial_y_train,\n",
    "          epochs=20,\n",
    "          batch_size=128,\n",
    "          validation_data=(x_val, y_val))\n"
   ]
  },
  {
   "cell_type": "markdown",
   "id": "37afb567-8441-4e20-9ad1-6fb7eef41fd5",
   "metadata": {},
   "source": [
    "## Predicting house prices: A regression example"
   ]
  },
  {
   "cell_type": "markdown",
   "id": "a4454838-25ad-4224-8fe2-aa717fb8ff79",
   "metadata": {},
   "source": [
    "### The Boston Housing Price dataset"
   ]
  },
  {
   "cell_type": "code",
   "execution_count": 105,
   "id": "154766a5-13cf-4846-a2c1-3958380037dc",
   "metadata": {},
   "outputs": [],
   "source": [
    "from tensorflow.keras.datasets import boston_housing\n",
    "(train_data, train_targets), (test_data, test_targets) = boston_housing.load_data()"
   ]
  },
  {
   "cell_type": "code",
   "execution_count": 106,
   "id": "2570092e-4cf2-497f-8a29-7077f3466fb4",
   "metadata": {},
   "outputs": [
    {
     "data": {
      "text/plain": [
       "(404, 13)"
      ]
     },
     "execution_count": 106,
     "metadata": {},
     "output_type": "execute_result"
    }
   ],
   "source": [
    "train_data.shape"
   ]
  },
  {
   "cell_type": "code",
   "execution_count": 107,
   "id": "63072444-c542-4e23-8e54-3592a2444491",
   "metadata": {},
   "outputs": [
    {
     "data": {
      "text/plain": [
       "(102, 13)"
      ]
     },
     "execution_count": 107,
     "metadata": {},
     "output_type": "execute_result"
    }
   ],
   "source": [
    "test_data.shape"
   ]
  },
  {
   "cell_type": "code",
   "execution_count": 108,
   "id": "48683ad3-a551-462b-b44b-44008a5a2b15",
   "metadata": {},
   "outputs": [
    {
     "data": {
      "text/plain": [
       "array([15.2, 42.3, 50. , 21.1, 17.7, 18.5, 11.3, 15.6, 15.6, 14.4])"
      ]
     },
     "execution_count": 108,
     "metadata": {},
     "output_type": "execute_result"
    }
   ],
   "source": [
    "train_targets[0:10]"
   ]
  },
  {
   "cell_type": "markdown",
   "id": "0be08233-c57b-42a7-96b8-c7d2b154f6b9",
   "metadata": {},
   "source": [
    "**Normalizing the data**"
   ]
  },
  {
   "cell_type": "code",
   "execution_count": 109,
   "id": "c25ff58a-1ed2-43d6-9296-6ba441261816",
   "metadata": {},
   "outputs": [],
   "source": [
    "mean = train_data.mean(axis=0)\n",
    "train_data -= mean\n",
    "std = train_data.std(axis=0)\n",
    "train_data /= std\n",
    "test_data -= mean\n",
    "test_data /= std"
   ]
  },
  {
   "cell_type": "markdown",
   "id": "b576c0a4-7700-49d8-913e-5a9d56f46b8a",
   "metadata": {},
   "source": [
    "### Validating your approach using K-fold validation"
   ]
  },
  {
   "cell_type": "code",
   "execution_count": 110,
   "id": "c919cd31-9487-478f-966f-065708d9e3f6",
   "metadata": {},
   "outputs": [],
   "source": [
    "def build_model():\n",
    "    model = keras.Sequential([\n",
    "        layers.Dense(64, activation=\"relu\"),\n",
    "        layers.Dense(64, activation=\"relu\"),\n",
    "        layers.Dense(1)\n",
    "    ])\n",
    "    model.compile(optimizer=\"rmsprop\", loss=\"mse\", metrics=[\"mae\"])\n",
    "    return model"
   ]
  },
  {
   "cell_type": "code",
   "execution_count": 111,
   "id": "b03616ae-86e9-46ac-ae70-8d5182d6c868",
   "metadata": {},
   "outputs": [
    {
     "data": {
      "text/plain": [
       "404"
      ]
     },
     "execution_count": 111,
     "metadata": {},
     "output_type": "execute_result"
    }
   ],
   "source": [
    "len(train_data)"
   ]
  },
  {
   "cell_type": "markdown",
   "id": "860db181-4d4f-4759-b606-e1529f580a53",
   "metadata": {},
   "source": [
    "**Saving the validation logs at each fold**"
   ]
  },
  {
   "cell_type": "code",
   "execution_count": 112,
   "id": "1432456d-63bd-4925-8a1c-3e5de32829f4",
   "metadata": {},
   "outputs": [
    {
     "name": "stdout",
     "output_type": "stream",
     "text": [
      "Processing fold #0\n",
      "Processing fold #1\n",
      "Processing fold #2\n",
      "Processing fold #3\n"
     ]
    }
   ],
   "source": [
    "k = 4\n",
    "num_val_samples = len(train_data) // k\n",
    "num_epochs = 500\n",
    "all_mae_histories = []\n",
    "for i in range(k):\n",
    "    print(f\"Processing fold #{i}\")\n",
    "    val_data = train_data[i * num_val_samples: (i + 1) * num_val_samples]\n",
    "    val_targets = train_targets[i * num_val_samples: (i + 1) * num_val_samples]\n",
    "    partial_train_data = np.concatenate(\n",
    "        [train_data[:i * num_val_samples],\n",
    "         train_data[(i + 1) * num_val_samples:]],\n",
    "        axis=0)\n",
    "    partial_train_targets = np.concatenate(\n",
    "        [train_targets[:i * num_val_samples],\n",
    "         train_targets[(i + 1) * num_val_samples:]],\n",
    "        axis=0)\n",
    "    model = build_model()\n",
    "    history = model.fit(partial_train_data, partial_train_targets,\n",
    "                        validation_data=(val_data, val_targets),\n",
    "                        epochs=num_epochs, batch_size=16, verbose=0)\n",
    "    mae_history = history.history[\"val_mae\"]\n",
    "    all_mae_histories.append(mae_history)"
   ]
  },
  {
   "cell_type": "code",
   "execution_count": 113,
   "id": "ad872259-dac2-4c17-8e84-8d70a19f71d6",
   "metadata": {},
   "outputs": [
    {
     "data": {
      "text/plain": [
       "list"
      ]
     },
     "execution_count": 113,
     "metadata": {},
     "output_type": "execute_result"
    }
   ],
   "source": [
    "type(history.history['val_mae'])"
   ]
  },
  {
   "cell_type": "code",
   "execution_count": 114,
   "id": "5596fa41-067c-4313-8d8c-ba8cf83eb0cc",
   "metadata": {},
   "outputs": [
    {
     "data": {
      "text/plain": [
       "[21.09128761291504,\n",
       " 17.162874221801758,\n",
       " 12.094169616699219,\n",
       " 8.713750839233398,\n",
       " 6.934635162353516,\n",
       " 5.681881904602051,\n",
       " 4.673924922943115,\n",
       " 4.142789840698242,\n",
       " 3.8304598331451416,\n",
       " 3.551250696182251,\n",
       " 3.2874462604522705,\n",
       " 3.3418147563934326,\n",
       " 3.339693069458008,\n",
       " 3.112542152404785,\n",
       " 3.303811550140381,\n",
       " 2.9353365898132324,\n",
       " 2.937070608139038,\n",
       " 2.882833957672119,\n",
       " 2.7716119289398193,\n",
       " 2.813258171081543,\n",
       " 2.747007369995117,\n",
       " 2.7732067108154297,\n",
       " 2.705348253250122,\n",
       " 2.698131561279297,\n",
       " 2.636970043182373,\n",
       " 2.621128797531128,\n",
       " 2.67096209526062,\n",
       " 2.745816707611084,\n",
       " 2.593304395675659,\n",
       " 2.5905978679656982,\n",
       " 2.608654737472534,\n",
       " 2.640423536300659,\n",
       " 2.542990207672119,\n",
       " 2.6519343852996826,\n",
       " 2.485628604888916,\n",
       " 2.7002170085906982,\n",
       " 2.528038501739502,\n",
       " 2.4330055713653564,\n",
       " 2.553884744644165,\n",
       " 2.4225051403045654,\n",
       " 2.5140562057495117,\n",
       " 2.54372239112854,\n",
       " 2.3896162509918213,\n",
       " 2.3946774005889893,\n",
       " 2.4662842750549316,\n",
       " 2.438204765319824,\n",
       " 2.424027681350708,\n",
       " 2.4101028442382812,\n",
       " 2.3723666667938232,\n",
       " 2.355607748031616,\n",
       " 2.4370498657226562,\n",
       " 2.3490264415740967,\n",
       " 2.33996844291687,\n",
       " 2.324357509613037,\n",
       " 2.3028931617736816,\n",
       " 2.3703439235687256,\n",
       " 2.4034290313720703,\n",
       " 2.3159611225128174,\n",
       " 2.313308000564575,\n",
       " 2.3837547302246094,\n",
       " 2.3370895385742188,\n",
       " 2.3903591632843018,\n",
       " 2.382253408432007,\n",
       " 2.3185513019561768,\n",
       " 2.379944086074829,\n",
       " 2.294403076171875,\n",
       " 2.2898991107940674,\n",
       " 2.3017830848693848,\n",
       " 2.3287770748138428,\n",
       " 2.3524868488311768,\n",
       " 2.282287359237671,\n",
       " 2.4345955848693848,\n",
       " 2.2865257263183594,\n",
       " 2.3064887523651123,\n",
       " 2.4435677528381348,\n",
       " 2.452509880065918,\n",
       " 2.3593344688415527,\n",
       " 2.307525396347046,\n",
       " 2.2993805408477783,\n",
       " 2.415789842605591,\n",
       " 2.373542308807373,\n",
       " 2.3177995681762695,\n",
       " 2.292814254760742,\n",
       " 2.3243813514709473,\n",
       " 2.406721591949463,\n",
       " 2.2937748432159424,\n",
       " 2.2739360332489014,\n",
       " 2.2773942947387695,\n",
       " 2.4644415378570557,\n",
       " 2.3295342922210693,\n",
       " 2.291863203048706,\n",
       " 2.4065120220184326,\n",
       " 2.27726149559021,\n",
       " 2.2622172832489014,\n",
       " 2.2689120769500732,\n",
       " 2.258075475692749,\n",
       " 2.2952206134796143,\n",
       " 2.3076484203338623,\n",
       " 2.3981926441192627,\n",
       " 2.3007349967956543,\n",
       " 2.3655202388763428,\n",
       " 2.332731246948242,\n",
       " 2.284008026123047,\n",
       " 2.3645448684692383,\n",
       " 2.280062198638916,\n",
       " 2.2884223461151123,\n",
       " 2.3836135864257812,\n",
       " 2.3464956283569336,\n",
       " 2.2772128582000732,\n",
       " 2.4125919342041016,\n",
       " 2.264918804168701,\n",
       " 2.3026623725891113,\n",
       " 2.294104814529419,\n",
       " 2.3481757640838623,\n",
       " 2.440312385559082,\n",
       " 2.290972948074341,\n",
       " 2.2865829467773438,\n",
       " 2.2677125930786133,\n",
       " 2.2982118129730225,\n",
       " 2.267899751663208,\n",
       " 2.3623337745666504,\n",
       " 2.3235766887664795,\n",
       " 2.284142255783081,\n",
       " 2.372365713119507,\n",
       " 2.2716422080993652,\n",
       " 2.29648494720459,\n",
       " 2.363464117050171,\n",
       " 2.2819125652313232,\n",
       " 2.500913619995117,\n",
       " 2.303142786026001,\n",
       " 2.466254234313965,\n",
       " 2.3282339572906494,\n",
       " 2.3989334106445312,\n",
       " 2.321713924407959,\n",
       " 2.327247381210327,\n",
       " 2.338001012802124,\n",
       " 2.2731900215148926,\n",
       " 2.321916103363037,\n",
       " 2.308302640914917,\n",
       " 2.2976584434509277,\n",
       " 2.3501999378204346,\n",
       " 2.353794813156128,\n",
       " 2.2965457439422607,\n",
       " 2.2992398738861084,\n",
       " 2.437953233718872,\n",
       " 2.411499261856079,\n",
       " 2.337143898010254,\n",
       " 2.3331408500671387,\n",
       " 2.4022469520568848,\n",
       " 2.431748151779175,\n",
       " 2.3052573204040527,\n",
       " 2.333803176879883,\n",
       " 2.3310024738311768,\n",
       " 2.3715384006500244,\n",
       " 2.313047409057617,\n",
       " 2.3342177867889404,\n",
       " 2.346550703048706,\n",
       " 2.382068634033203,\n",
       " 2.3108677864074707,\n",
       " 2.339874744415283,\n",
       " 2.4199678897857666,\n",
       " 2.4017560482025146,\n",
       " 2.372506856918335,\n",
       " 2.368424892425537,\n",
       " 2.3486857414245605,\n",
       " 2.36212158203125,\n",
       " 2.3847811222076416,\n",
       " 2.383315324783325,\n",
       " 2.3343167304992676,\n",
       " 2.3677446842193604,\n",
       " 2.377394676208496,\n",
       " 2.378602981567383,\n",
       " 2.362786293029785,\n",
       " 2.318922758102417,\n",
       " 2.368473529815674,\n",
       " 2.355944871902466,\n",
       " 2.375807285308838,\n",
       " 2.3760955333709717,\n",
       " 2.3546197414398193,\n",
       " 2.3983988761901855,\n",
       " 2.671631097793579,\n",
       " 2.4866743087768555,\n",
       " 2.435779333114624,\n",
       " 2.3710310459136963,\n",
       " 2.3627631664276123,\n",
       " 2.40238356590271,\n",
       " 2.4007680416107178,\n",
       " 2.477022647857666,\n",
       " 2.4057729244232178,\n",
       " 2.3782310485839844,\n",
       " 2.365436315536499,\n",
       " 2.4118764400482178,\n",
       " 2.4162356853485107,\n",
       " 2.4025661945343018,\n",
       " 2.4524121284484863,\n",
       " 2.3944666385650635,\n",
       " 2.397462844848633,\n",
       " 2.394254684448242,\n",
       " 2.4397614002227783,\n",
       " 2.387958526611328,\n",
       " 2.49065899848938,\n",
       " 2.3921358585357666,\n",
       " 2.4304537773132324,\n",
       " 2.425083637237549,\n",
       " 2.436122179031372,\n",
       " 2.474515914916992,\n",
       " 2.539896249771118,\n",
       " 2.3828301429748535,\n",
       " 2.4287190437316895,\n",
       " 2.43983793258667,\n",
       " 2.4131929874420166,\n",
       " 2.42429780960083,\n",
       " 2.4141812324523926,\n",
       " 2.3876278400421143,\n",
       " 2.4224464893341064,\n",
       " 2.400599956512451,\n",
       " 2.434765100479126,\n",
       " 2.4637978076934814,\n",
       " 2.515411853790283,\n",
       " 2.5804221630096436,\n",
       " 2.487128734588623,\n",
       " 2.4404795169830322,\n",
       " 2.4328558444976807,\n",
       " 2.4749531745910645,\n",
       " 2.475388765335083,\n",
       " 2.451244592666626,\n",
       " 2.497624158859253,\n",
       " 2.4488906860351562,\n",
       " 2.485781669616699,\n",
       " 2.4898264408111572,\n",
       " 2.3932464122772217,\n",
       " 2.464895009994507,\n",
       " 2.4322025775909424,\n",
       " 2.457460641860962,\n",
       " 2.5051448345184326,\n",
       " 2.616565704345703,\n",
       " 2.554182291030884,\n",
       " 2.553619623184204,\n",
       " 2.5037145614624023,\n",
       " 2.4928500652313232,\n",
       " 2.446030616760254,\n",
       " 2.5315704345703125,\n",
       " 2.442545175552368,\n",
       " 2.476979970932007,\n",
       " 2.478494882583618,\n",
       " 2.4539973735809326,\n",
       " 2.46309494972229,\n",
       " 2.4726788997650146,\n",
       " 2.5724058151245117,\n",
       " 2.471611261367798,\n",
       " 2.5777053833007812,\n",
       " 2.50166916847229,\n",
       " 2.5770103931427,\n",
       " 2.486550807952881,\n",
       " 2.459489583969116,\n",
       " 2.473222017288208,\n",
       " 2.5387542247772217,\n",
       " 2.4896864891052246,\n",
       " 2.5038540363311768,\n",
       " 2.457345485687256,\n",
       " 2.4835565090179443,\n",
       " 2.5303902626037598,\n",
       " 2.5144400596618652,\n",
       " 2.514616012573242,\n",
       " 2.58537220954895,\n",
       " 2.5338566303253174,\n",
       " 2.556594133377075,\n",
       " 2.5356523990631104,\n",
       " 2.555964469909668,\n",
       " 2.526090145111084,\n",
       " 2.5806210041046143,\n",
       " 2.6420671939849854,\n",
       " 2.574545383453369,\n",
       " 2.534933567047119,\n",
       " 2.5865366458892822,\n",
       " 2.5679290294647217,\n",
       " 2.5702953338623047,\n",
       " 2.528622627258301,\n",
       " 2.5677146911621094,\n",
       " 2.5632989406585693,\n",
       " 2.5396528244018555,\n",
       " 2.569174289703369,\n",
       " 2.5872747898101807,\n",
       " 2.5315515995025635,\n",
       " 2.580263137817383,\n",
       " 2.561875104904175,\n",
       " 2.5844006538391113,\n",
       " 2.518947124481201,\n",
       " 2.488132953643799,\n",
       " 2.527545690536499,\n",
       " 2.5324552059173584,\n",
       " 2.579897165298462,\n",
       " 2.5593371391296387,\n",
       " 2.6196184158325195,\n",
       " 2.5302064418792725,\n",
       " 2.5859932899475098,\n",
       " 2.573554515838623,\n",
       " 2.592853307723999,\n",
       " 2.5700738430023193,\n",
       " 2.5959246158599854,\n",
       " 2.6568920612335205,\n",
       " 2.612464427947998,\n",
       " 2.5993170738220215,\n",
       " 2.602752923965454,\n",
       " 2.592146873474121,\n",
       " 2.5608010292053223,\n",
       " 2.5643649101257324,\n",
       " 2.5616612434387207,\n",
       " 2.5735971927642822,\n",
       " 2.628190040588379,\n",
       " 2.6159870624542236,\n",
       " 2.5597081184387207,\n",
       " 2.6281847953796387,\n",
       " 2.6078848838806152,\n",
       " 2.5653038024902344,\n",
       " 2.5655877590179443,\n",
       " 2.59678053855896,\n",
       " 2.5144386291503906,\n",
       " 2.5550827980041504,\n",
       " 2.5837697982788086,\n",
       " 2.5878005027770996,\n",
       " 2.6113250255584717,\n",
       " 2.6438992023468018,\n",
       " 2.5940141677856445,\n",
       " 2.6020822525024414,\n",
       " 2.5761919021606445,\n",
       " 2.615161895751953,\n",
       " 2.569382667541504,\n",
       " 2.6366429328918457,\n",
       " 2.572143793106079,\n",
       " 2.6372902393341064,\n",
       " 2.6592109203338623,\n",
       " 2.7041759490966797,\n",
       " 2.5424139499664307,\n",
       " 2.626349449157715,\n",
       " 2.573331117630005,\n",
       " 2.6164426803588867,\n",
       " 2.7028753757476807,\n",
       " 2.630469560623169,\n",
       " 2.6001527309417725,\n",
       " 2.534438133239746,\n",
       " 2.6140248775482178,\n",
       " 2.586549758911133,\n",
       " 2.5660860538482666,\n",
       " 2.6362595558166504,\n",
       " 2.5384838581085205,\n",
       " 2.6714680194854736,\n",
       " 2.578794479370117,\n",
       " 2.5760293006896973,\n",
       " 2.6278369426727295,\n",
       " 2.586461067199707,\n",
       " 2.5740206241607666,\n",
       " 2.576228141784668,\n",
       " 2.7024965286254883,\n",
       " 2.536055564880371,\n",
       " 2.5735318660736084,\n",
       " 2.6702635288238525,\n",
       " 2.586879253387451,\n",
       " 2.6262474060058594,\n",
       " 2.6290969848632812,\n",
       " 2.8437106609344482,\n",
       " 2.572840690612793,\n",
       " 2.5759646892547607,\n",
       " 2.5722222328186035,\n",
       " 2.5825443267822266,\n",
       " 2.6268889904022217,\n",
       " 2.6152186393737793,\n",
       " 2.6137640476226807,\n",
       " 2.690706968307495,\n",
       " 2.5895774364471436,\n",
       " 2.676532745361328,\n",
       " 2.6273422241210938,\n",
       " 2.590080976486206,\n",
       " 2.629387617111206,\n",
       " 2.602921962738037,\n",
       " 2.6014983654022217,\n",
       " 2.6961679458618164,\n",
       " 2.5933666229248047,\n",
       " 2.6938915252685547,\n",
       " 2.6126010417938232,\n",
       " 2.6015961170196533,\n",
       " 2.6139650344848633,\n",
       " 2.6797256469726562,\n",
       " 2.700709819793701,\n",
       " 2.613563060760498,\n",
       " 2.5973830223083496,\n",
       " 2.626873016357422,\n",
       " 2.589944362640381,\n",
       " 2.6782994270324707,\n",
       " 2.653226137161255,\n",
       " 2.5982825756073,\n",
       " 2.616159677505493,\n",
       " 2.6252622604370117,\n",
       " 2.643341064453125,\n",
       " 2.7113499641418457,\n",
       " 2.634815216064453,\n",
       " 2.614943027496338,\n",
       " 2.6122100353240967,\n",
       " 2.848207712173462,\n",
       " 2.7096164226531982,\n",
       " 2.6426265239715576,\n",
       " 2.7091336250305176,\n",
       " 2.659137725830078,\n",
       " 2.6613433361053467,\n",
       " 2.7591285705566406,\n",
       " 2.6049418449401855,\n",
       " 2.6855521202087402,\n",
       " 2.6569342613220215,\n",
       " 2.6595304012298584,\n",
       " 2.797564744949341,\n",
       " 2.7162697315216064,\n",
       " 2.7175447940826416,\n",
       " 2.658930778503418,\n",
       " 2.712156057357788,\n",
       " 2.781703472137451,\n",
       " 2.719860792160034,\n",
       " 2.7959401607513428,\n",
       " 2.858823537826538,\n",
       " 2.744493246078491,\n",
       " 2.815157651901245,\n",
       " 2.6806414127349854,\n",
       " 2.6888587474823,\n",
       " 2.742143392562866,\n",
       " 2.7060413360595703,\n",
       " 2.6535634994506836,\n",
       " 2.7281291484832764,\n",
       " 2.6365973949432373,\n",
       " 2.7745964527130127,\n",
       " 2.6398894786834717,\n",
       " 2.6705708503723145,\n",
       " 2.6482748985290527,\n",
       " 2.6528236865997314,\n",
       " 2.701460123062134,\n",
       " 2.67535138130188,\n",
       " 2.8011279106140137,\n",
       " 2.7187371253967285,\n",
       " 2.6875922679901123,\n",
       " 2.649613857269287,\n",
       " 2.7243170738220215,\n",
       " 2.7004618644714355,\n",
       " 2.7491114139556885,\n",
       " 2.666680335998535,\n",
       " 2.6888628005981445,\n",
       " 2.755208730697632,\n",
       " 2.7696714401245117,\n",
       " 2.693122148513794,\n",
       " 2.69464111328125,\n",
       " 2.6715943813323975,\n",
       " 2.7035813331604004,\n",
       " 2.7450156211853027,\n",
       " 2.6625888347625732,\n",
       " 2.6890623569488525,\n",
       " 2.7008070945739746,\n",
       " 2.6969003677368164,\n",
       " 2.749122142791748,\n",
       " 2.755708694458008,\n",
       " 2.7415432929992676,\n",
       " 2.73685622215271,\n",
       " 2.6575264930725098,\n",
       " 2.6542105674743652,\n",
       " 2.8020734786987305,\n",
       " 2.669919967651367,\n",
       " 2.700206756591797,\n",
       " 2.713209629058838,\n",
       " 2.7051262855529785,\n",
       " 2.7340550422668457,\n",
       " 2.8723483085632324,\n",
       " 2.6792662143707275,\n",
       " 2.6645655632019043,\n",
       " 2.8490118980407715,\n",
       " 2.7057790756225586,\n",
       " 2.7257566452026367,\n",
       " 2.7769615650177,\n",
       " 2.679971933364868,\n",
       " 2.7701125144958496,\n",
       " 2.7158493995666504,\n",
       " 2.7754006385803223,\n",
       " 2.702287197113037,\n",
       " 3.014169454574585,\n",
       " 2.710468053817749,\n",
       " 2.7994916439056396,\n",
       " 2.7833352088928223,\n",
       " 2.806915521621704,\n",
       " 2.8331382274627686,\n",
       " 2.739370107650757,\n",
       " 2.7838149070739746,\n",
       " 2.822425365447998,\n",
       " 2.7075626850128174,\n",
       " 2.781879425048828,\n",
       " 2.6898207664489746,\n",
       " 2.7680230140686035,\n",
       " 2.7338671684265137,\n",
       " 2.8375930786132812,\n",
       " 2.7697219848632812,\n",
       " 2.7980661392211914,\n",
       " 2.822936773300171,\n",
       " 2.740302324295044,\n",
       " 2.770364284515381,\n",
       " 2.6958515644073486,\n",
       " 2.75563645362854]"
      ]
     },
     "execution_count": 114,
     "metadata": {},
     "output_type": "execute_result"
    }
   ],
   "source": [
    "mae_history"
   ]
  },
  {
   "cell_type": "code",
   "execution_count": 115,
   "id": "8dbc5a6e-da68-4ae0-9ecd-0b39290fa675",
   "metadata": {},
   "outputs": [
    {
     "data": {
      "text/plain": [
       "4"
      ]
     },
     "execution_count": 115,
     "metadata": {},
     "output_type": "execute_result"
    }
   ],
   "source": [
    "len(all_mae_histories)"
   ]
  },
  {
   "cell_type": "code",
   "execution_count": 116,
   "id": "2265bb37-518a-400b-a801-ca51d78e0280",
   "metadata": {},
   "outputs": [
    {
     "data": {
      "text/plain": [
       "500"
      ]
     },
     "execution_count": 116,
     "metadata": {},
     "output_type": "execute_result"
    }
   ],
   "source": [
    "len(all_mae_histories[0])"
   ]
  },
  {
   "cell_type": "code",
   "execution_count": 117,
   "id": "f50aecf1-1628-4b02-b2af-d5303c94b75c",
   "metadata": {},
   "outputs": [],
   "source": [
    "## compute mean over 4 sections in the cross-validation by list comprehension\n",
    "average_mae_history = [\n",
    "    np.mean([x[i] for x in all_mae_histories]) for i in range(num_epochs)]"
   ]
  },
  {
   "cell_type": "code",
   "execution_count": 118,
   "id": "f711a0ba-edb6-48bc-b8fa-857e047ee2a2",
   "metadata": {},
   "outputs": [
    {
     "data": {
      "text/plain": [
       "[18.552396774291992, 19.30945587158203, 18.87933921813965, 21.09128761291504]"
      ]
     },
     "execution_count": 118,
     "metadata": {},
     "output_type": "execute_result"
    }
   ],
   "source": [
    "[x[0] for x in all_mae_histories]"
   ]
  },
  {
   "cell_type": "code",
   "execution_count": 119,
   "id": "fa60fde7-0491-432c-90b4-5eb0b4782ceb",
   "metadata": {},
   "outputs": [
    {
     "data": {
      "image/png": "[encoded data removed]",
      "text/plain": [
       "<Figure size 640x480 with 1 Axes>"
      ]
     },
     "metadata": {},
     "output_type": "display_data"
    }
   ],
   "source": [
    "plt.plot(range(1, len(average_mae_history) + 1), average_mae_history)\n",
    "plt.xlabel(\"Epochs\")\n",
    "plt.ylabel(\"Validation MAE\")\n",
    "plt.show()"
   ]
  },
  {
   "cell_type": "code",
   "execution_count": 120,
   "id": "65d6fa4d-4a0d-4a08-a1b3-1f6c111f8b43",
   "metadata": {},
   "outputs": [
    {
     "data": {
      "image/png": "[encoded data removed]",
      "text/plain": [
       "<Figure size 640x480 with 1 Axes>"
      ]
     },
     "metadata": {},
     "output_type": "display_data"
    }
   ],
   "source": [
    "truncated_mae_history = average_mae_history[10:]\n",
    "plt.plot(range(1, len(truncated_mae_history) + 1), truncated_mae_history)\n",
    "plt.xlabel(\"Epochs\")\n",
    "plt.ylabel(\"Validation MAE\")\n",
    "plt.show()"
   ]
  },
  {
   "cell_type": "code",
   "execution_count": 121,
   "id": "9099a183-ec77-455d-8e3a-1c77161a2bb2",
   "metadata": {},
   "outputs": [
    {
     "name": "stdout",
     "output_type": "stream",
     "text": [
      "4/4 [==============================] - 0s 7ms/step - loss: 14.3316 - mae: 2.5031\n"
     ]
    }
   ],
   "source": [
    "model = build_model()\n",
    "model.fit(train_data, train_targets,\n",
    "          epochs=130, batch_size=16, verbose=0)\n",
    "test_mse_score, test_mae_score = model.evaluate(test_data, test_targets)"
   ]
  },
  {
   "cell_type": "code",
   "execution_count": 122,
   "id": "e6379650-7897-4ef9-acc4-a91a2783f4ec",
   "metadata": {},
   "outputs": [
    {
     "data": {
      "text/plain": [
       "2.5030741691589355"
      ]
     },
     "execution_count": 122,
     "metadata": {},
     "output_type": "execute_result"
    }
   ],
   "source": [
    "test_mae_score"
   ]
  },
  {
   "cell_type": "code",
   "execution_count": null,
   "id": "5215981a-cad5-4221-b370-bf44c03e94c9",
   "metadata": {},
   "outputs": [],
   "source": []
  }
 ],
 "metadata": {
  "kernelspec": {
   "display_name": "base",
   "language": "python",
   "name": "python3"
  },
  "language_info": {
   "codemirror_mode": {
    "name": "ipython",
    "version": 3
   },
   "file_extension": ".py",
   "mimetype": "text/x-python",
   "name": "python",
   "nbconvert_exporter": "python",
   "pygments_lexer": "ipython3",
   "version": "3.12.7"
  }
 },
 "nbformat": 4,
 "nbformat_minor": 5
}
