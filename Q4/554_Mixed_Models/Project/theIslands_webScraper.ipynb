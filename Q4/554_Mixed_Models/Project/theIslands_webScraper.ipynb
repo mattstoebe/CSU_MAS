{
 "cells": [
  {
   "cell_type": "code",
   "execution_count": 5,
   "metadata": {},
   "outputs": [],
   "source": [
    "from selenium import webdriver\n",
    "from selenium.webdriver.common.by import By\n",
    "from selenium.webdriver.support.ui import WebDriverWait\n",
    "from selenium.webdriver.support import expected_conditions as EC\n",
    "from urllib.parse import urljoin\n",
    "import pandas as pd\n",
    "\n",
    "options = webdriver.ChromeOptions()\n",
    "options.add_experimental_option(\"detach\", True)  # leave browser open when done\n",
    "driver = webdriver.Chrome(options=options)\n",
    "\n",
    "try:\n",
    "    # --- 2) Go to login page & log in ---\n",
    "    driver.get(\"https://islands.smp.uq.edu.au/login.php\")\n",
    "    wait = WebDriverWait(driver, 10)\n",
    "    wait.until(EC.presence_of_element_located((By.NAME, \"email\")))\n",
    "    driver.find_element(By.NAME, \"email\").send_keys(\"matthew.stoebe@colostate.edu\")\n",
    "    driver.find_element(By.NAME, \"word\").send_keys(\"TheIslands\")\n",
    "    driver.find_element(By.CSS_SELECTOR, \"input[type='submit'][value='Sign In']\").click()\n",
    "    \n",
    "    driver.get(\"https://islands.smp.uq.edu.au/project.php\")\n",
    "    \n",
    "    cards = wait.until(EC.presence_of_all_elements_located((By.CSS_SELECTOR, \"div.contact\")))\n",
    "    \n",
    "    contacts = []\n",
    "    for card in cards:\n",
    "        a = card.find_element(By.CSS_SELECTOR, \"div.name a\")\n",
    "        name = a.text.replace(\"\\n\", \" \")\n",
    "        profile_url = urljoin(driver.current_url, a.get_attribute(\"href\"))\n",
    "        contacts.append({\"name\": name, \"profile_url\": profile_url})\n",
    "    \n",
    "finally:\n",
    "    # driver.quit()                       # uncomment to close browser automatically\n",
    "    pass\n"
   ]
  },
  {
   "cell_type": "code",
   "execution_count": 6,
   "metadata": {},
   "outputs": [
    {
     "name": "stdout",
     "output_type": "stream",
     "text": [
      "[{'name': 'Akane Abels', 'profile_url': 'https://islands.smp.uq.edu.au/islander.php?id=tvr3smcydj'}, {'name': 'Leon Bager', 'profile_url': 'https://islands.smp.uq.edu.au/islander.php?id=ta43k375tr'}, {'name': 'Paul Bager', 'profile_url': 'https://islands.smp.uq.edu.au/islander.php?id=zlgyztmrxn'}, {'name': 'Nihal Bahadur', 'profile_url': 'https://islands.smp.uq.edu.au/islander.php?id=u7c7hptsqp'}, {'name': 'Britt Blomgren', 'profile_url': 'https://islands.smp.uq.edu.au/islander.php?id=679tawpk3w'}, {'name': 'Elias Blomgren', 'profile_url': 'https://islands.smp.uq.edu.au/islander.php?id=ryhv983pr8'}, {'name': 'Tobias Blomgren', 'profile_url': 'https://islands.smp.uq.edu.au/islander.php?id=5qb9p989sp'}, {'name': 'Franziska Brandt', 'profile_url': 'https://islands.smp.uq.edu.au/islander.php?id=eymh53yuzc'}, {'name': 'Jasmin Brandt', 'profile_url': 'https://islands.smp.uq.edu.au/islander.php?id=ubv5v7mtz9'}, {'name': 'Ross Brown', 'profile_url': 'https://islands.smp.uq.edu.au/islander.php?id=cwhupysft4'}, {'name': 'Ryan Brown', 'profile_url': 'https://islands.smp.uq.edu.au/islander.php?id=rmtvhxngpw'}, {'name': 'Arvid Carlsen', 'profile_url': 'https://islands.smp.uq.edu.au/islander.php?id=pgk2uxm3wr'}, {'name': 'Elsa Carlsen', 'profile_url': 'https://islands.smp.uq.edu.au/islander.php?id=93flpy55fa'}, {'name': 'Tomas Carlsen', 'profile_url': 'https://islands.smp.uq.edu.au/islander.php?id=dsm23lv5bj'}, {'name': 'Yash Chatterjee', 'profile_url': 'https://islands.smp.uq.edu.au/islander.php?id=ykman8u7v7'}, {'name': 'Austin Collins', 'profile_url': 'https://islands.smp.uq.edu.au/islander.php?id=chr3t5ezet'}, {'name': 'Hailey Collins', 'profile_url': 'https://islands.smp.uq.edu.au/islander.php?id=655qz37sm9'}, {'name': 'Josh Collins', 'profile_url': 'https://islands.smp.uq.edu.au/islander.php?id=j4ex3ydjd4'}, {'name': 'Amie Connolly', 'profile_url': 'https://islands.smp.uq.edu.au/islander.php?id=pglnj8ljj6'}, {'name': 'Florian Eklund', 'profile_url': 'https://islands.smp.uq.edu.au/islander.php?id=5j29b9kstz'}, {'name': 'Halden Eklund', 'profile_url': 'https://islands.smp.uq.edu.au/islander.php?id=sxzfj5gxbt'}, {'name': 'Hanne Eklund', 'profile_url': 'https://islands.smp.uq.edu.au/islander.php?id=txylbjcshy'}, {'name': 'Jana Erickson', 'profile_url': 'https://islands.smp.uq.edu.au/islander.php?id=mafnkrpx7b'}, {'name': 'Petra Franke', 'profile_url': 'https://islands.smp.uq.edu.au/islander.php?id=xuut9clb8m'}, {'name': 'Auna Hall', 'profile_url': 'https://islands.smp.uq.edu.au/islander.php?id=qw7md5sj37'}, {'name': 'Jermaine Hall', 'profile_url': 'https://islands.smp.uq.edu.au/islander.php?id=s3pjfsb3nx'}, {'name': 'Manami Hall', 'profile_url': 'https://islands.smp.uq.edu.au/islander.php?id=z8ekxzep3s'}, {'name': 'Summer Hall', 'profile_url': 'https://islands.smp.uq.edu.au/islander.php?id=ksptxc6ue4'}, {'name': 'Brigit Jensen', 'profile_url': 'https://islands.smp.uq.edu.au/islander.php?id=hr2jpcabsg'}, {'name': 'Harold Jensen', 'profile_url': 'https://islands.smp.uq.edu.au/islander.php?id=4nzys6x44n'}, {'name': 'Devak Kaur', 'profile_url': 'https://islands.smp.uq.edu.au/islander.php?id=k5v3rphqra'}, {'name': 'Chloe Kimura', 'profile_url': 'https://islands.smp.uq.edu.au/islander.php?id=zv5vvlls2s'}, {'name': 'Niamh Kimura', 'profile_url': 'https://islands.smp.uq.edu.au/islander.php?id=wbywr7kra9'}, {'name': 'Shauna Kimura', 'profile_url': 'https://islands.smp.uq.edu.au/islander.php?id=8qksyk5ru5'}, {'name': 'Anita Kuhn', 'profile_url': 'https://islands.smp.uq.edu.au/islander.php?id=acjuteb3a3'}, {'name': 'Gerik Madsen', 'profile_url': 'https://islands.smp.uq.edu.au/islander.php?id=wzk9qjnk4b'}, {'name': 'Hallmar Madsen', 'profile_url': 'https://islands.smp.uq.edu.au/islander.php?id=wpdyrgpec8'}, {'name': 'Inga Maurer', 'profile_url': 'https://islands.smp.uq.edu.au/islander.php?id=srycrdfryk'}, {'name': 'Alice McCarthy', 'profile_url': 'https://islands.smp.uq.edu.au/islander.php?id=kff5wxbxd4'}, {'name': 'Rose McCarthy', 'profile_url': 'https://islands.smp.uq.edu.au/islander.php?id=pkc4rukgdu'}, {'name': 'Anamica Morris', 'profile_url': 'https://islands.smp.uq.edu.au/islander.php?id=9aawwnkgk6'}, {'name': 'Jack Morris', 'profile_url': 'https://islands.smp.uq.edu.au/islander.php?id=zmzklftks4'}, {'name': 'Jun Morris', 'profile_url': 'https://islands.smp.uq.edu.au/islander.php?id=kuh745jt7v'}, {'name': 'Sian Morris', 'profile_url': 'https://islands.smp.uq.edu.au/islander.php?id=e6s27vf33e'}, {'name': 'Taylor Morris', 'profile_url': 'https://islands.smp.uq.edu.au/islander.php?id=qdbsfsdlu6'}, {'name': 'Anastasia Olsen', 'profile_url': 'https://islands.smp.uq.edu.au/islander.php?id=lau2h8hgqe'}, {'name': 'Malena Olsen', 'profile_url': 'https://islands.smp.uq.edu.au/islander.php?id=lu2zlu7rmc'}, {'name': 'Tyr Olsen', 'profile_url': 'https://islands.smp.uq.edu.au/islander.php?id=c8dza2uzfd'}, {'name': 'Adelie Pallesen', 'profile_url': 'https://islands.smp.uq.edu.au/islander.php?id=betgz8nqbq'}, {'name': 'Noah Pallesen', 'profile_url': 'https://islands.smp.uq.edu.au/islander.php?id=wnfwpl3gab'}, {'name': 'Jessica Price', 'profile_url': 'https://islands.smp.uq.edu.au/islander.php?id=al2erbybc7'}, {'name': 'Jules Puri', 'profile_url': 'https://islands.smp.uq.edu.au/islander.php?id=w6dssn3pw7'}, {'name': 'Daichi Regan', 'profile_url': 'https://islands.smp.uq.edu.au/islander.php?id=c2dbq8llk4'}, {'name': 'Hannah Regan', 'profile_url': 'https://islands.smp.uq.edu.au/islander.php?id=t8h9dfb9vu'}, {'name': 'Uwe Richter', 'profile_url': 'https://islands.smp.uq.edu.au/islander.php?id=ms59stzcv5'}, {'name': 'Lysiane Rousseau', 'profile_url': 'https://islands.smp.uq.edu.au/islander.php?id=z3n66mx2yh'}, {'name': 'Dennis Scholz', 'profile_url': 'https://islands.smp.uq.edu.au/islander.php?id=jddk4thd53'}, {'name': 'Yumiko Shimada', 'profile_url': 'https://islands.smp.uq.edu.au/islander.php?id=pglxlceuey'}, {'name': 'Bernard Solberg', 'profile_url': 'https://islands.smp.uq.edu.au/islander.php?id=zvfl2prlpm'}, {'name': 'Dane Solberg', 'profile_url': 'https://islands.smp.uq.edu.au/islander.php?id=afdqa5szsj'}, {'name': 'Elias Solberg', 'profile_url': 'https://islands.smp.uq.edu.au/islander.php?id=9regc7xaxl'}, {'name': 'Felix Solberg', 'profile_url': 'https://islands.smp.uq.edu.au/islander.php?id=h9twf85ahq'}, {'name': 'Ole Solberg', 'profile_url': 'https://islands.smp.uq.edu.au/islander.php?id=2yjk2scxem'}, {'name': 'Selina Solberg', 'profile_url': 'https://islands.smp.uq.edu.au/islander.php?id=v839rpk9qc'}, {'name': 'Soren Solberg', 'profile_url': 'https://islands.smp.uq.edu.au/islander.php?id=xwlduafrxy'}, {'name': 'Torvald Solberg', 'profile_url': 'https://islands.smp.uq.edu.au/islander.php?id=aaag3x74cs'}, {'name': 'Vanessa Solberg', 'profile_url': 'https://islands.smp.uq.edu.au/islander.php?id=shzba4n4g5'}, {'name': 'Arvid Sorensen', 'profile_url': 'https://islands.smp.uq.edu.au/islander.php?id=bkbwmkug56'}, {'name': 'Emma Sorensen', 'profile_url': 'https://islands.smp.uq.edu.au/islander.php?id=cnl5dxhceb'}, {'name': 'Mia Sorensen', 'profile_url': 'https://islands.smp.uq.edu.au/islander.php?id=5xcflzjmep'}, {'name': 'Murali Sultana', 'profile_url': 'https://islands.smp.uq.edu.au/islander.php?id=g7rcn3bq8p'}, {'name': 'Elias Svendsen', 'profile_url': 'https://islands.smp.uq.edu.au/islander.php?id=zehpsv55nu'}, {'name': 'Satomi Ueta', 'profile_url': 'https://islands.smp.uq.edu.au/islander.php?id=k3gf6ce74t'}, {'name': 'Izna Varma', 'profile_url': 'https://islands.smp.uq.edu.au/islander.php?id=7ldeyqlp2a'}, {'name': 'Kazuki Wilson', 'profile_url': 'https://islands.smp.uq.edu.au/islander.php?id=bqp2t8g3fx'}, {'name': 'Naoto Wilson', 'profile_url': 'https://islands.smp.uq.edu.au/islander.php?id=mfwfhtx8dc'}, {'name': 'Blade Yamada', 'profile_url': 'https://islands.smp.uq.edu.au/islander.php?id=2xkl7hy7uh'}, {'name': 'Deepa Zaman', 'profile_url': 'https://islands.smp.uq.edu.au/islander.php?id=vrqss2aeya'}, {'name': 'Nadia Zaman', 'profile_url': 'https://islands.smp.uq.edu.au/islander.php?id=ljwh8lr5xn'}]\n"
     ]
    }
   ],
   "source": [
    "print(contacts)\n"
   ]
  },
  {
   "cell_type": "code",
   "execution_count": null,
   "metadata": {},
   "outputs": [],
   "source": []
  }
 ],
 "metadata": {
  "kernelspec": {
   "display_name": "base",
   "language": "python",
   "name": "python3"
  },
  "language_info": {
   "codemirror_mode": {
    "name": "ipython",
    "version": 3
   },
   "file_extension": ".py",
   "mimetype": "text/x-python",
   "name": "python",
   "nbconvert_exporter": "python",
   "pygments_lexer": "ipython3",
   "version": "3.12.7"
  }
 },
 "nbformat": 4,
 "nbformat_minor": 2
}
